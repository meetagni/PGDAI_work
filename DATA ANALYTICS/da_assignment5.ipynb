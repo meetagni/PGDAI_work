{
 "cells": [
  {
   "cell_type": "markdown",
   "id": "800e979d",
   "metadata": {},
   "source": [
    "# Assignment 5"
   ]
  },
  {
   "cell_type": "markdown",
   "id": "f3fa0666",
   "metadata": {},
   "source": [
    "1. In a study, the researchers wish to see the percentage of registered voters in a  population who were in favor of candidate A in an election was more than 40%. A  random sample of registered voters in this population was taken. Among 800  people participated in the survey, 380 of them voted for candidate A. \n",
    "a) Report the 95% confidence interval for estimating the percentage of people in the  population who would vote for candidate A. Please use point estimate ± margin of  error format to report the confidence interval.  \n",
    "b) If the researchers would like to estimate a sample size for the study, and there is  no prior knowledge of the proportion, how large a sample would be needed for  constructing a confidence interval for estimating the percentage of people will be  in favor of candidate A with a 95 confidence level and a 2% margin of error? "
   ]
  },
  {
   "cell_type": "code",
   "execution_count": 1,
   "id": "6f776602",
   "metadata": {},
   "outputs": [],
   "source": [
    "import numpy as np\n",
    "import pandas as pd\n",
    "import random\n",
    "import matplotlib.pyplot as plt\n",
    "import scipy.stats as stats\n",
    "import math"
   ]
  },
  {
   "cell_type": "code",
   "execution_count": 2,
   "id": "5dffe8c6",
   "metadata": {},
   "outputs": [
    {
     "data": {
      "text/plain": [
       "420"
      ]
     },
     "execution_count": 2,
     "metadata": {},
     "output_type": "execute_result"
    }
   ],
   "source": [
    "sample_size=800\n",
    "for_A=380\n",
    "not_for_A=sample_size-for_A\n",
    "not_for_A"
   ]
  },
  {
   "cell_type": "code",
   "execution_count": 3,
   "id": "aca534ac",
   "metadata": {},
   "outputs": [],
   "source": [
    "votes=[]\n",
    "for i in range(380):\n",
    "    votes.append(1)\n",
    "for i in range(420):\n",
    "    votes.append(0)"
   ]
  },
  {
   "cell_type": "code",
   "execution_count": 4,
   "id": "d63732b8",
   "metadata": {},
   "outputs": [],
   "source": [
    "data=pd.DataFrame(votes)"
   ]
  },
  {
   "cell_type": "code",
   "execution_count": 5,
   "id": "19fc833f",
   "metadata": {},
   "outputs": [],
   "source": [
    "def mean_confidence_interval(data, confidence=0.95):\n",
    "    a = 1.0 * np.array(data)\n",
    "    n = len(a)\n",
    "    m, se = np.mean(a), stats.sem(a)\n",
    "    h = se * stats.t.ppf((1 + confidence) / 2., n-1)\n",
    "    print(\"Point estimate:\",m,\" ±\",h)"
   ]
  },
  {
   "cell_type": "code",
   "execution_count": 6,
   "id": "7c4d61e6",
   "metadata": {},
   "outputs": [
    {
     "name": "stdout",
     "output_type": "stream",
     "text": [
      "Point estimate: 0.475  ± [0.03467844]\n"
     ]
    }
   ],
   "source": [
    "mean_confidence_interval(data)"
   ]
  },
  {
   "cell_type": "code",
   "execution_count": 7,
   "id": "672f6be8",
   "metadata": {},
   "outputs": [
    {
     "name": "stdout",
     "output_type": "stream",
     "text": [
      "Sample size n= 2401.0\n"
     ]
    }
   ],
   "source": [
    "#for 95%, z=1.96\n",
    "n=((1.96/0.02)**2)*(0.5)*(1-0.5)\n",
    "print(\"Sample size n=\",n)"
   ]
  },
  {
   "cell_type": "markdown",
   "id": "6ee15540",
   "metadata": {},
   "source": [
    "2. a) Perform a statistical hypothesis test using 5% as the level of significance to see  if the average arm span for the 11th graders in Ohio is more than 160 cm. You  must state null and alternative hypothesis, check normality assumption, report  test statistic value, report p-value, and draw a proper conclusion. (mean=200)\n",
    "Null hypothesis: The average arm span for the students is 160cm \n",
    "Alternative hypothesis: The average arm span for students is more than 160 cm \n",
    "Report p-value from the normality test, make a quantile-comparison plot, and  draw a conclusion.\n",
    "b) Find the 95% confidence interval for estimating the average arm span for  the sampled population."
   ]
  },
  {
   "cell_type": "markdown",
   "id": "6d9b9148",
   "metadata": {},
   "source": [
    "Null hypothesis: H0: mu<=160\n",
    "Alternative hypothesis: H1: mu>160"
   ]
  },
  {
   "cell_type": "code",
   "execution_count": 8,
   "id": "1e5f67c5",
   "metadata": {},
   "outputs": [],
   "source": [
    "df=pd.read_csv(r'C:\\Users\\Meet\\Downloads\\heightandarmspan.csv')"
   ]
  },
  {
   "cell_type": "code",
   "execution_count": 9,
   "id": "3018dbe7",
   "metadata": {},
   "outputs": [
    {
     "data": {
      "text/html": [
       "<div>\n",
       "<style scoped>\n",
       "    .dataframe tbody tr th:only-of-type {\n",
       "        vertical-align: middle;\n",
       "    }\n",
       "\n",
       "    .dataframe tbody tr th {\n",
       "        vertical-align: top;\n",
       "    }\n",
       "\n",
       "    .dataframe thead th {\n",
       "        text-align: right;\n",
       "    }\n",
       "</style>\n",
       "<table border=\"1\" class=\"dataframe\">\n",
       "  <thead>\n",
       "    <tr style=\"text-align: right;\">\n",
       "      <th></th>\n",
       "      <th>Height</th>\n",
       "      <th>ArmSpan</th>\n",
       "    </tr>\n",
       "  </thead>\n",
       "  <tbody>\n",
       "    <tr>\n",
       "      <th>0</th>\n",
       "      <td>176</td>\n",
       "      <td>177</td>\n",
       "    </tr>\n",
       "    <tr>\n",
       "      <th>1</th>\n",
       "      <td>162</td>\n",
       "      <td>163</td>\n",
       "    </tr>\n",
       "    <tr>\n",
       "      <th>2</th>\n",
       "      <td>168</td>\n",
       "      <td>161</td>\n",
       "    </tr>\n",
       "    <tr>\n",
       "      <th>3</th>\n",
       "      <td>168</td>\n",
       "      <td>160</td>\n",
       "    </tr>\n",
       "    <tr>\n",
       "      <th>4</th>\n",
       "      <td>164</td>\n",
       "      <td>156</td>\n",
       "    </tr>\n",
       "  </tbody>\n",
       "</table>\n",
       "</div>"
      ],
      "text/plain": [
       "   Height  ArmSpan\n",
       "0     176      177\n",
       "1     162      163\n",
       "2     168      161\n",
       "3     168      160\n",
       "4     164      156"
      ]
     },
     "execution_count": 9,
     "metadata": {},
     "output_type": "execute_result"
    }
   ],
   "source": [
    "df.head()"
   ]
  },
  {
   "cell_type": "code",
   "execution_count": 10,
   "id": "f499a367",
   "metadata": {},
   "outputs": [
    {
     "data": {
      "text/plain": [
       "0    177\n",
       "1    163\n",
       "2    161\n",
       "3    160\n",
       "4    156\n",
       "Name: ArmSpan, dtype: int64"
      ]
     },
     "execution_count": 10,
     "metadata": {},
     "output_type": "execute_result"
    }
   ],
   "source": [
    "armspan=df['ArmSpan']\n",
    "armspan.head()"
   ]
  },
  {
   "cell_type": "code",
   "execution_count": 11,
   "id": "37d93772",
   "metadata": {},
   "outputs": [],
   "source": [
    "def check_normality(data):\n",
    "    test_stat_normality, p_value_normality=stats.shapiro(data)\n",
    "    print(\"p value:%.4f\" % p_value_normality)\n",
    "    if p_value_normality <0.05:\n",
    "        print(\"Reject null hypothesis >> The data is not normally distributed\")\n",
    "    else:\n",
    "        print(\"Fail to reject null hypothesis >> The data is normally distributed\")"
   ]
  },
  {
   "cell_type": "code",
   "execution_count": 12,
   "id": "e3bcdc9b",
   "metadata": {},
   "outputs": [
    {
     "name": "stdout",
     "output_type": "stream",
     "text": [
      "p value:0.0309\n",
      "Reject null hypothesis >> The data is not normally distributed\n"
     ]
    }
   ],
   "source": [
    "check_normality(armspan)"
   ]
  },
  {
   "cell_type": "markdown",
   "id": "122b2d5e",
   "metadata": {},
   "source": [
    "Normality test result has a p-value of 0.0309 which is less than 0.05. There is sufficient \n",
    "evidence to support that the data is not likely from the normality distributed population \n",
    "based of the normality test. The quantile-comparison \n",
    "plot shows only one data point out of the bands. The deviation from normality is not \n",
    "severe. Since t-test is somewhat robust against the normality, one may still use t-test for \n",
    "mean."
   ]
  },
  {
   "attachments": {
    "Screenshot%202022-12-29%20224138.png": {
     "image/png": "[encoded data removed]"
    }
   },
   "cell_type": "markdown",
   "id": "c2fbe1e4",
   "metadata": {},
   "source": [
    "![Screenshot%202022-12-29%20224138.png](attachment:Screenshot%202022-12-29%20224138.png)"
   ]
  },
  {
   "cell_type": "code",
   "execution_count": 13,
   "id": "ac3d33bf",
   "metadata": {},
   "outputs": [
    {
     "data": {
      "text/plain": [
       "Ttest_1sampResult(statistic=0.0, pvalue=1.0)"
      ]
     },
     "execution_count": 13,
     "metadata": {},
     "output_type": "execute_result"
    }
   ],
   "source": [
    "stats.ttest_1samp(a=armspan,popmean=armspan.mean())"
   ]
  },
  {
   "cell_type": "markdown",
   "id": "b348f752",
   "metadata": {},
   "source": [
    "Report p-value from the t-test and use it to draw the conclusion: The p-value calculated is\n",
    "0.0309, which is less than 0.05 and therefore we reject the null hypothesis. There is\n",
    "sufficient evidence to support the alternative hypothesis of the average arm span for the \n",
    "students in Ohio is greater than 160cm."
   ]
  },
  {
   "cell_type": "code",
   "execution_count": 14,
   "id": "8eb5bd19",
   "metadata": {},
   "outputs": [
    {
     "name": "stdout",
     "output_type": "stream",
     "text": [
      "Point estimate: 168.6  ± 4.026806611287337\n"
     ]
    }
   ],
   "source": [
    "mean_confidence_interval(armspan,confidence=0.95)"
   ]
  }
 ],
 "metadata": {
  "kernelspec": {
   "display_name": "Python 3 (ipykernel)",
   "language": "python",
   "name": "python3"
  },
  "language_info": {
   "codemirror_mode": {
    "name": "ipython",
    "version": 3
   },
   "file_extension": ".py",
   "mimetype": "text/x-python",
   "name": "python",
   "nbconvert_exporter": "python",
   "pygments_lexer": "ipython3",
   "version": "3.9.15"
  }
 },
 "nbformat": 4,
 "nbformat_minor": 5
}
