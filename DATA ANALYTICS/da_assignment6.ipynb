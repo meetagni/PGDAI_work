{
 "cells": [
  {
   "cell_type": "markdown",
   "id": "79936228",
   "metadata": {},
   "source": [
    "# Assignment 6"
   ]
  },
  {
   "cell_type": "markdown",
   "id": "153117c0",
   "metadata": {},
   "source": [
    "For the titanic dataset perform the hypothesis testing to claim that there is a\n",
    "significant difference between  proportions of survived females to that of survived\n",
    "males."
   ]
  },
  {
   "cell_type": "code",
   "execution_count": 1,
   "id": "4241754f",
   "metadata": {},
   "outputs": [],
   "source": [
    "import numpy as np\n",
    "import pandas as pd\n",
    "import scipy.stats.distributions as dist"
   ]
  },
  {
   "cell_type": "code",
   "execution_count": 2,
   "id": "e91a4860",
   "metadata": {},
   "outputs": [
    {
     "data": {
      "text/html": [
       "<div>\n",
       "<style scoped>\n",
       "    .dataframe tbody tr th:only-of-type {\n",
       "        vertical-align: middle;\n",
       "    }\n",
       "\n",
       "    .dataframe tbody tr th {\n",
       "        vertical-align: top;\n",
       "    }\n",
       "\n",
       "    .dataframe thead th {\n",
       "        text-align: right;\n",
       "    }\n",
       "</style>\n",
       "<table border=\"1\" class=\"dataframe\">\n",
       "  <thead>\n",
       "    <tr style=\"text-align: right;\">\n",
       "      <th></th>\n",
       "      <th>PassengerId</th>\n",
       "      <th>Survived</th>\n",
       "      <th>Pclass</th>\n",
       "      <th>Name</th>\n",
       "      <th>Sex</th>\n",
       "      <th>Age</th>\n",
       "      <th>SibSp</th>\n",
       "      <th>Parch</th>\n",
       "      <th>Ticket</th>\n",
       "      <th>Fare</th>\n",
       "      <th>Cabin</th>\n",
       "      <th>Embarked</th>\n",
       "    </tr>\n",
       "  </thead>\n",
       "  <tbody>\n",
       "    <tr>\n",
       "      <th>0</th>\n",
       "      <td>1</td>\n",
       "      <td>0</td>\n",
       "      <td>3</td>\n",
       "      <td>Braund, Mr. Owen Harris</td>\n",
       "      <td>male</td>\n",
       "      <td>22.0</td>\n",
       "      <td>1</td>\n",
       "      <td>0</td>\n",
       "      <td>A/5 21171</td>\n",
       "      <td>7.2500</td>\n",
       "      <td>NaN</td>\n",
       "      <td>S</td>\n",
       "    </tr>\n",
       "    <tr>\n",
       "      <th>1</th>\n",
       "      <td>2</td>\n",
       "      <td>1</td>\n",
       "      <td>1</td>\n",
       "      <td>Cumings, Mrs. John Bradley (Florence Briggs Th...</td>\n",
       "      <td>female</td>\n",
       "      <td>38.0</td>\n",
       "      <td>1</td>\n",
       "      <td>0</td>\n",
       "      <td>PC 17599</td>\n",
       "      <td>71.2833</td>\n",
       "      <td>C85</td>\n",
       "      <td>C</td>\n",
       "    </tr>\n",
       "    <tr>\n",
       "      <th>2</th>\n",
       "      <td>3</td>\n",
       "      <td>1</td>\n",
       "      <td>3</td>\n",
       "      <td>Heikkinen, Miss. Laina</td>\n",
       "      <td>female</td>\n",
       "      <td>26.0</td>\n",
       "      <td>0</td>\n",
       "      <td>0</td>\n",
       "      <td>STON/O2. 3101282</td>\n",
       "      <td>7.9250</td>\n",
       "      <td>NaN</td>\n",
       "      <td>S</td>\n",
       "    </tr>\n",
       "    <tr>\n",
       "      <th>3</th>\n",
       "      <td>4</td>\n",
       "      <td>1</td>\n",
       "      <td>1</td>\n",
       "      <td>Futrelle, Mrs. Jacques Heath (Lily May Peel)</td>\n",
       "      <td>female</td>\n",
       "      <td>35.0</td>\n",
       "      <td>1</td>\n",
       "      <td>0</td>\n",
       "      <td>113803</td>\n",
       "      <td>53.1000</td>\n",
       "      <td>C123</td>\n",
       "      <td>S</td>\n",
       "    </tr>\n",
       "    <tr>\n",
       "      <th>4</th>\n",
       "      <td>5</td>\n",
       "      <td>0</td>\n",
       "      <td>3</td>\n",
       "      <td>Allen, Mr. William Henry</td>\n",
       "      <td>male</td>\n",
       "      <td>35.0</td>\n",
       "      <td>0</td>\n",
       "      <td>0</td>\n",
       "      <td>373450</td>\n",
       "      <td>8.0500</td>\n",
       "      <td>NaN</td>\n",
       "      <td>S</td>\n",
       "    </tr>\n",
       "  </tbody>\n",
       "</table>\n",
       "</div>"
      ],
      "text/plain": [
       "   PassengerId  Survived  Pclass  \\\n",
       "0            1         0       3   \n",
       "1            2         1       1   \n",
       "2            3         1       3   \n",
       "3            4         1       1   \n",
       "4            5         0       3   \n",
       "\n",
       "                                                Name     Sex   Age  SibSp  \\\n",
       "0                            Braund, Mr. Owen Harris    male  22.0      1   \n",
       "1  Cumings, Mrs. John Bradley (Florence Briggs Th...  female  38.0      1   \n",
       "2                             Heikkinen, Miss. Laina  female  26.0      0   \n",
       "3       Futrelle, Mrs. Jacques Heath (Lily May Peel)  female  35.0      1   \n",
       "4                           Allen, Mr. William Henry    male  35.0      0   \n",
       "\n",
       "   Parch            Ticket     Fare Cabin Embarked  \n",
       "0      0         A/5 21171   7.2500   NaN        S  \n",
       "1      0          PC 17599  71.2833   C85        C  \n",
       "2      0  STON/O2. 3101282   7.9250   NaN        S  \n",
       "3      0            113803  53.1000  C123        S  \n",
       "4      0            373450   8.0500   NaN        S  "
      ]
     },
     "execution_count": 2,
     "metadata": {},
     "output_type": "execute_result"
    }
   ],
   "source": [
    "data = pd.read_csv(r'C:\\Users\\Meet\\Downloads\\train.csv')\n",
    "data.head()"
   ]
  },
  {
   "cell_type": "code",
   "execution_count": 3,
   "id": "09cb64b5",
   "metadata": {},
   "outputs": [
    {
     "data": {
      "text/html": [
       "<div>\n",
       "<style scoped>\n",
       "    .dataframe tbody tr th:only-of-type {\n",
       "        vertical-align: middle;\n",
       "    }\n",
       "\n",
       "    .dataframe tbody tr th {\n",
       "        vertical-align: top;\n",
       "    }\n",
       "\n",
       "    .dataframe thead th {\n",
       "        text-align: right;\n",
       "    }\n",
       "</style>\n",
       "<table border=\"1\" class=\"dataframe\">\n",
       "  <thead>\n",
       "    <tr style=\"text-align: right;\">\n",
       "      <th>Sex</th>\n",
       "      <th>female</th>\n",
       "      <th>male</th>\n",
       "    </tr>\n",
       "    <tr>\n",
       "      <th>Survived</th>\n",
       "      <th></th>\n",
       "      <th></th>\n",
       "    </tr>\n",
       "  </thead>\n",
       "  <tbody>\n",
       "    <tr>\n",
       "      <th>Not Survived</th>\n",
       "      <td>6</td>\n",
       "      <td>54</td>\n",
       "    </tr>\n",
       "    <tr>\n",
       "      <th>Survived</th>\n",
       "      <td>82</td>\n",
       "      <td>41</td>\n",
       "    </tr>\n",
       "  </tbody>\n",
       "</table>\n",
       "</div>"
      ],
      "text/plain": [
       "Sex           female  male\n",
       "Survived                  \n",
       "Not Survived       6    54\n",
       "Survived          82    41"
      ]
     },
     "execution_count": 3,
     "metadata": {},
     "output_type": "execute_result"
    }
   ],
   "source": [
    "data['Survived'] = data['Survived'].map({1:'Survived',0:'Not Survived'}) #Encode the values\n",
    "data = data.dropna() #Drop the nan values\n",
    "contingency_table = pd.crosstab(data.Survived,data.Sex) #Contingency Table\n",
    "contingency_table"
   ]
  },
  {
   "cell_type": "code",
   "execution_count": 4,
   "id": "dca652c9",
   "metadata": {},
   "outputs": [
    {
     "data": {
      "text/html": [
       "<div>\n",
       "<style scoped>\n",
       "    .dataframe tbody tr th:only-of-type {\n",
       "        vertical-align: middle;\n",
       "    }\n",
       "\n",
       "    .dataframe tbody tr th {\n",
       "        vertical-align: top;\n",
       "    }\n",
       "\n",
       "    .dataframe thead th {\n",
       "        text-align: right;\n",
       "    }\n",
       "</style>\n",
       "<table border=\"1\" class=\"dataframe\">\n",
       "  <thead>\n",
       "    <tr style=\"text-align: right;\">\n",
       "      <th>Sex</th>\n",
       "      <th>female</th>\n",
       "      <th>male</th>\n",
       "    </tr>\n",
       "    <tr>\n",
       "      <th>Survived</th>\n",
       "      <th></th>\n",
       "      <th></th>\n",
       "    </tr>\n",
       "  </thead>\n",
       "  <tbody>\n",
       "    <tr>\n",
       "      <th>Not Survived</th>\n",
       "      <td>0.068182</td>\n",
       "      <td>0.568421</td>\n",
       "    </tr>\n",
       "    <tr>\n",
       "      <th>Survived</th>\n",
       "      <td>0.931818</td>\n",
       "      <td>0.431579</td>\n",
       "    </tr>\n",
       "  </tbody>\n",
       "</table>\n",
       "</div>"
      ],
      "text/plain": [
       "Sex             female      male\n",
       "Survived                        \n",
       "Not Survived  0.068182  0.568421\n",
       "Survived      0.931818  0.431579"
      ]
     },
     "execution_count": 4,
     "metadata": {},
     "output_type": "execute_result"
    }
   ],
   "source": [
    "pd.crosstab(data.Survived,data.Sex).apply(lambda r:r/r.sum(),axis=0)"
   ]
  },
  {
   "cell_type": "markdown",
   "id": "a33a0c08",
   "metadata": {},
   "source": [
    "Hypothesis:\n",
    "\n",
    "The hypothesis we test is if the above difference of proportions will be zero or not equal to zero(a two tailed test will be required). Mathematically, we represent it as:"
   ]
  },
  {
   "cell_type": "markdown",
   "id": "6eb1e756",
   "metadata": {},
   "source": [
    "H0: pf-pm=0 (Null hypothesis)\n",
    "H1: pf-pm!=0(Alternative hypothesis)"
   ]
  },
  {
   "cell_type": "markdown",
   "id": "02f5aaba",
   "metadata": {},
   "source": [
    "We preset the significance level to 0.10"
   ]
  },
  {
   "cell_type": "code",
   "execution_count": 5,
   "id": "4eae0ec1",
   "metadata": {},
   "outputs": [],
   "source": [
    "total_proportion_survived = (data.Survived == \"Survived\").mean()\n",
    "num_female = data[data.Sex==\"female\"].shape[0]\n",
    "num_male = data[data.Sex==\"male\"].shape[0]\n",
    "assert num_female*total_proportion_survived>10, \"Assumptions not met\"\n",
    "assert num_male*total_proportion_survived>10, \"Assumptions not met\"\n",
    "assert num_female*(1-total_proportion_survived)>10, \"Assumptions not met\"\n",
    "assert num_male*(1-total_proportion_survived)>10, \"Assumptions not met\""
   ]
  },
  {
   "cell_type": "code",
   "execution_count": 6,
   "id": "d87f8f3c",
   "metadata": {},
   "outputs": [
    {
     "data": {
      "text/html": [
       "<div>\n",
       "<style scoped>\n",
       "    .dataframe tbody tr th:only-of-type {\n",
       "        vertical-align: middle;\n",
       "    }\n",
       "\n",
       "    .dataframe tbody tr th {\n",
       "        vertical-align: top;\n",
       "    }\n",
       "\n",
       "    .dataframe thead th {\n",
       "        text-align: right;\n",
       "    }\n",
       "</style>\n",
       "<table border=\"1\" class=\"dataframe\">\n",
       "  <thead>\n",
       "    <tr style=\"text-align: right;\">\n",
       "      <th></th>\n",
       "      <th>proportions_survived</th>\n",
       "      <th>total_counts</th>\n",
       "    </tr>\n",
       "    <tr>\n",
       "      <th>Sex</th>\n",
       "      <th></th>\n",
       "      <th></th>\n",
       "    </tr>\n",
       "  </thead>\n",
       "  <tbody>\n",
       "    <tr>\n",
       "      <th>female</th>\n",
       "      <td>0.931818</td>\n",
       "      <td>88</td>\n",
       "    </tr>\n",
       "    <tr>\n",
       "      <th>male</th>\n",
       "      <td>0.431579</td>\n",
       "      <td>95</td>\n",
       "    </tr>\n",
       "  </tbody>\n",
       "</table>\n",
       "</div>"
      ],
      "text/plain": [
       "        proportions_survived  total_counts\n",
       "Sex                                       \n",
       "female              0.931818            88\n",
       "male                0.431579            95"
      ]
     },
     "execution_count": 6,
     "metadata": {},
     "output_type": "execute_result"
    }
   ],
   "source": [
    "#This table helps us to calculate the Standard Error.\n",
    "prop = data.groupby(\"Sex\")[\"Survived\"].agg([lambda z: np.mean(z==\"Survived\"), \"size\"])\n",
    "prop.columns = ['proportions_survived','total_counts']\n",
    "prop.head()"
   ]
  },
  {
   "cell_type": "code",
   "execution_count": 7,
   "id": "6e503a1b",
   "metadata": {},
   "outputs": [
    {
     "name": "stdout",
     "output_type": "stream",
     "text": [
      "Sample Standard Error 0.06945435736849903\n"
     ]
    }
   ],
   "source": [
    "#Calculating standard error\n",
    "variance = total_proportion_survived * (1 - total_proportion_survived)\n",
    "standard_error = np.sqrt(variance * (1 / prop.total_counts.female + 1 / prop.total_counts.male))\n",
    "print(\"Sample Standard Error\",standard_error)"
   ]
  },
  {
   "cell_type": "code",
   "execution_count": 8,
   "id": "4279ce28",
   "metadata": {},
   "outputs": [
    {
     "name": "stdout",
     "output_type": "stream",
     "text": [
      "The best estimate is 0.5002392344497607\n",
      "Computed Test Statistic is 7.202416859113346\n"
     ]
    }
   ],
   "source": [
    "# Calculate the test statistic \n",
    "best_estimate = (prop.proportions_survived.female - prop.proportions_survived.male)\n",
    "print(\"The best estimate is\",best_estimate)\n",
    "hypothesized_estimate = 0\n",
    "test_stat = (best_estimate-hypothesized_estimate) / standard_error\n",
    "print(\"Computed Test Statistic is\",test_stat)"
   ]
  },
  {
   "cell_type": "markdown",
   "id": "5a2ff0ce",
   "metadata": {},
   "source": [
    "This implicates that our sample proportion difference estimate is ~7.2 standard errors above our hypothesized estimate"
   ]
  },
  {
   "cell_type": "code",
   "execution_count": 9,
   "id": "8bb63f9a",
   "metadata": {},
   "outputs": [
    {
     "name": "stdout",
     "output_type": "stream",
     "text": [
      "Computed P-value is 5.915451296155379e-13\n"
     ]
    }
   ],
   "source": [
    "# Calculate the  p-value\n",
    "pvalue = 2*dist.norm.cdf(-np.abs(test_stat)) # Multiplied by two indicates a two tailed testing.\n",
    "print(\"Computed P-value is\", pvalue)"
   ]
  },
  {
   "cell_type": "markdown",
   "id": "7f7be078",
   "metadata": {},
   "source": [
    "We can clearly see that p-value is way lesser than the significance level of 0.10. So we can safely reject the null hypothesis in favour of the alternative hypothesis. We infer that the difference in proportions between that of survived females to that of survived males is significant and certainly not equal to zero(females might had had better access to lifeboats)."
   ]
  },
  {
   "cell_type": "markdown",
   "id": "bfc07042",
   "metadata": {},
   "source": [
    "### For the iris dataset perform the ANOVA testing.\n",
    "“Normally, species variable put as dependent variable to do classification. But species also can put as independent variable to conduct ANOVA test. Conduct the statistical test that figures out three or more differences in group means."
   ]
  },
  {
   "cell_type": "code",
   "execution_count": 10,
   "id": "c3d52eb5",
   "metadata": {},
   "outputs": [
    {
     "data": {
      "text/plain": [
       "array([0, 0, 0, 0, 0, 0, 0, 0, 0, 0, 0, 0, 0, 0, 0, 0, 0, 0, 0, 0, 0, 0,\n",
       "       0, 0, 0, 0, 0, 0, 0, 0, 0, 0, 0, 0, 0, 0, 0, 0, 0, 0, 0, 0, 0, 0,\n",
       "       0, 0, 0, 0, 0, 0, 1, 1, 1, 1, 1, 1, 1, 1, 1, 1, 1, 1, 1, 1, 1, 1,\n",
       "       1, 1, 1, 1, 1, 1, 1, 1, 1, 1, 1, 1, 1, 1, 1, 1, 1, 1, 1, 1, 1, 1,\n",
       "       1, 1, 1, 1, 1, 1, 1, 1, 1, 1, 1, 1, 2, 2, 2, 2, 2, 2, 2, 2, 2, 2,\n",
       "       2, 2, 2, 2, 2, 2, 2, 2, 2, 2, 2, 2, 2, 2, 2, 2, 2, 2, 2, 2, 2, 2,\n",
       "       2, 2, 2, 2, 2, 2, 2, 2, 2, 2, 2, 2, 2, 2, 2, 2, 2, 2])"
      ]
     },
     "execution_count": 10,
     "metadata": {},
     "output_type": "execute_result"
    }
   ],
   "source": [
    "from sklearn.datasets import load_iris\n",
    "iris=load_iris()\n",
    "iris.target"
   ]
  },
  {
   "cell_type": "code",
   "execution_count": 11,
   "id": "95924ca9",
   "metadata": {},
   "outputs": [],
   "source": [
    "dataframe_iris=pd.DataFrame(iris.data,columns=['sepalLength','sepalWidth','petalLength','petalWidth'])"
   ]
  },
  {
   "cell_type": "code",
   "execution_count": 12,
   "id": "77ebb818",
   "metadata": {},
   "outputs": [],
   "source": [
    "dataframe_iris1=pd.DataFrame(iris.target,columns=['target'])"
   ]
  },
  {
   "cell_type": "code",
   "execution_count": 13,
   "id": "2aa431c7",
   "metadata": {},
   "outputs": [],
   "source": [
    "ID=[]\n",
    "for i in range(0,150):\n",
    "    ID.append(i)"
   ]
  },
  {
   "cell_type": "code",
   "execution_count": 14,
   "id": "37ae4fec",
   "metadata": {},
   "outputs": [
    {
     "data": {
      "text/plain": [
       "Index(['sepalLength', 'sepalWidth', 'petalLength', 'petalWidth', 'target',\n",
       "       'ID'],\n",
       "      dtype='object')"
      ]
     },
     "execution_count": 14,
     "metadata": {},
     "output_type": "execute_result"
    }
   ],
   "source": [
    "dataframe=pd.DataFrame(ID,columns=['ID'])\n",
    "dataframe_iris_new=pd.concat([dataframe_iris,dataframe_iris1,dataframe],axis=1)\n",
    "dataframe_iris_new.columns"
   ]
  },
  {
   "cell_type": "code",
   "execution_count": 15,
   "id": "8b184fd7",
   "metadata": {},
   "outputs": [
    {
     "data": {
      "image/png": "[encoded data removed]",
      "text/plain": [
       "<Figure size 640x480 with 1 Axes>"
      ]
     },
     "execution_count": 15,
     "metadata": {},
     "output_type": "execute_result"
    },
    {
     "data": {
      "image/png": "[encoded data removed]",
      "text/plain": [
       "<Figure size 640x480 with 1 Axes>"
      ]
     },
     "metadata": {},
     "output_type": "display_data"
    }
   ],
   "source": [
    "from statsmodels.graphics.factorplots import interaction_plot\n",
    "fig = interaction_plot(dataframe_iris_new.sepalWidth,dataframe_iris_new.target,\n",
    "                       dataframe_iris_new.ID,colors=['red','blue','green'], ms=12)\n",
    "fig"
   ]
  },
  {
   "cell_type": "markdown",
   "id": "ccdd05ca",
   "metadata": {},
   "source": [
    "Anova hypothesis\n",
    "\n",
    "To implement Anova test we have to create null hypothesis and alternate hypothesis\n",
    "\n",
    "Null hypothesis=sample means are equal\n",
    "\n",
    "Alternate hypothesis=sample means are not equal"
   ]
  },
  {
   "cell_type": "code",
   "execution_count": 16,
   "id": "ae69eb22",
   "metadata": {},
   "outputs": [
    {
     "data": {
      "text/plain": [
       "sepalLength     5.843333\n",
       "sepalWidth      3.057333\n",
       "petalLength     3.758000\n",
       "petalWidth      1.199333\n",
       "target          1.000000\n",
       "ID             74.500000\n",
       "dtype: float64"
      ]
     },
     "execution_count": 16,
     "metadata": {},
     "output_type": "execute_result"
    }
   ],
   "source": [
    "dataframe_iris_new.mean()"
   ]
  },
  {
   "cell_type": "markdown",
   "id": "c86e00de",
   "metadata": {},
   "source": [
    "Before performing anova test Anova assumes following points. Anova assumptions: 1.Normality:-samples are taken from normal distribution. To check whether data is normally distributed or not Anova use shapiro-wilks test 2.Each sample is independent of other sample. 3.Variance:- variance should be same. To check whether variance between groups are equal Anova use levene/barlett test."
   ]
  },
  {
   "cell_type": "code",
   "execution_count": 17,
   "id": "df75fb24",
   "metadata": {},
   "outputs": [
    {
     "data": {
      "text/plain": [
       "ShapiroResult(statistic=0.7824642658233643, pvalue=1.1905897817111877e-13)"
      ]
     },
     "execution_count": 17,
     "metadata": {},
     "output_type": "execute_result"
    }
   ],
   "source": [
    "from scipy.stats import shapiro\n",
    "from scipy import stats\n",
    "stats.shapiro(dataframe_iris_new['sepalWidth'][dataframe_iris_new['target']])"
   ]
  },
  {
   "cell_type": "markdown",
   "id": "21767851",
   "metadata": {},
   "source": [
    "Interpretation:-As p-value is significant we reject null hypothesis."
   ]
  },
  {
   "cell_type": "markdown",
   "id": "de3dc0b6",
   "metadata": {},
   "source": [
    "Check equality of variance between groups(levene/bartlett test)"
   ]
  },
  {
   "cell_type": "code",
   "execution_count": 18,
   "id": "c9bcbfe7",
   "metadata": {},
   "outputs": [
    {
     "data": {
      "text/plain": [
       "LeveneResult(statistic=55.1738582824089, pvalue=1.1695737027924642e-12)"
      ]
     },
     "execution_count": 18,
     "metadata": {},
     "output_type": "execute_result"
    }
   ],
   "source": [
    "p_value=stats.levene(dataframe_iris_new['sepalWidth'],dataframe_iris_new['target'])\n",
    "p_value"
   ]
  },
  {
   "cell_type": "markdown",
   "id": "57e9da48",
   "metadata": {},
   "source": [
    "Interpretation:- As p-value is significant we reject null hypothesis"
   ]
  },
  {
   "cell_type": "markdown",
   "id": "f76dbd0c",
   "metadata": {},
   "source": [
    "One way Anova\n",
    "\n",
    "Null hypothesis(h0):-null hypothesis is that all groups of mean are equal,there is no difference between them. Alternate hypothesis(h1):-alternate hypothesis states that there is difference between mean"
   ]
  },
  {
   "cell_type": "code",
   "execution_count": 19,
   "id": "1e3f4bf8",
   "metadata": {},
   "outputs": [],
   "source": [
    "F_value,P_value=stats.f_oneway(dataframe_iris_new['sepalWidth'],dataframe_iris_new['target'])"
   ]
  },
  {
   "cell_type": "code",
   "execution_count": 20,
   "id": "010ec59f",
   "metadata": {},
   "outputs": [
    {
     "name": "stdout",
     "output_type": "stream",
     "text": [
      "F_value= 737.2872570149498 , P_value= 1.418242288711535e-82\n"
     ]
    }
   ],
   "source": [
    "print(\"F_value=\",F_value,\",\",\"P_value=\",P_value)"
   ]
  },
  {
   "cell_type": "code",
   "execution_count": 21,
   "id": "7b1c21e6",
   "metadata": {},
   "outputs": [
    {
     "name": "stdout",
     "output_type": "stream",
     "text": [
      "******SAMPLES HAVE DIFFERENT MEAN******\n"
     ]
    }
   ],
   "source": [
    "if F_value>1.0:\n",
    "    print(\"******SAMPLES HAVE DIFFERENT MEAN******\")\n",
    "else:\n",
    "    print(\"******SAMPLES HAVE EQUAL MEAN******\")"
   ]
  },
  {
   "cell_type": "code",
   "execution_count": 22,
   "id": "a33203ab",
   "metadata": {},
   "outputs": [
    {
     "name": "stdout",
     "output_type": "stream",
     "text": [
      "******REJECT NULL HYPOTHESIS******\n"
     ]
    }
   ],
   "source": [
    "if P_value<0.05:\n",
    "    print(\"******REJECT NULL HYPOTHESIS******\")\n",
    "else:\n",
    "    print(\"******ACCEPT NULL HYPOTHESIS******\")"
   ]
  },
  {
   "cell_type": "code",
   "execution_count": 23,
   "id": "1b2451f3",
   "metadata": {},
   "outputs": [
    {
     "name": "stdout",
     "output_type": "stream",
     "text": [
      "Multiple Comparison of Means - Tukey HSD, FWER=0.05 \n",
      "====================================================\n",
      "group1 group2 meandiff p-adj   lower   upper  reject\n",
      "----------------------------------------------------\n",
      "     0      1   -0.658    0.0 -0.8189 -0.4971   True\n",
      "     0      2   -0.454    0.0 -0.6149 -0.2931   True\n",
      "     1      2    0.204 0.0088  0.0431  0.3649   True\n",
      "----------------------------------------------------\n"
     ]
    }
   ],
   "source": [
    "from statsmodels.stats.multicomp import pairwise_tukeyhsd\n",
    "from statsmodels.sandbox.stats.multicomp import TukeyHSDResults\n",
    "tukey = pairwise_tukeyhsd(endog=dataframe_iris_new['sepalWidth'], groups=dataframe_iris_new['target'], alpha=0.05)\n",
    "print(tukey)"
   ]
  }
 ],
 "metadata": {
  "kernelspec": {
   "display_name": "Python 3 (ipykernel)",
   "language": "python",
   "name": "python3"
  },
  "language_info": {
   "codemirror_mode": {
    "name": "ipython",
    "version": 3
   },
   "file_extension": ".py",
   "mimetype": "text/x-python",
   "name": "python",
   "nbconvert_exporter": "python",
   "pygments_lexer": "ipython3",
   "version": "3.9.15"
  }
 },
 "nbformat": 4,
 "nbformat_minor": 5
}
