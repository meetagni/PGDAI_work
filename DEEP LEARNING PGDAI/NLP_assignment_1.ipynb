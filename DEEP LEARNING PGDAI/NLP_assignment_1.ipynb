{
  "nbformat": 4,
  "nbformat_minor": 0,
  "metadata": {
    "colab": {
      "provenance": []
    },
    "kernelspec": {
      "name": "python3",
      "display_name": "Python 3"
    },
    "language_info": {
      "name": "python"
    },
    "gpuClass": "standard"
  },
  "cells": [
    {
      "cell_type": "markdown",
      "source": [
        "# NLP Assignment 1"
      ],
      "metadata": {
        "id": "8al_3uG8NVJp"
      }
    },
    {
      "cell_type": "markdown",
      "source": [
        "text =\"\"  Follow our leader Elon musk on twitter here: https://twitter.com/elonmusk, more information\n",
        "on Tesla's products can be found at https://www.tesla.com/. Also here are leading influencers\n",
        "for tesla related news, \n",
        "https://twitter.com/teslarati \n",
        "https://twitter.com/dummy_tesla \n",
        "https://twitter.com/dummy_2_tesla \"\"\n",
        "output=[teslarati,dummy_tesla,dummy_2_tesla]\n",
        "\n",
        "\n",
        "\n",
        "(1) Credit Risk\n",
        "(2) Supply Risk\n",
        "text = '''\n",
        "Concentration of Risk: Credit Risk\n",
        "\n",
        "Financial instruments that potentially subject us to a concentration of credit risk consist of cash, cash equivalents, marketable securities,\n",
        "restricted cash, accounts receivable, convertible note hedges, and interest rate swaps. Our cash balances are primarily invested in money market funds\n",
        "or on deposit at high credit quality financial institutions in the U.S. These deposits are typically in excess of insured limits. As of September 30, 2021\n",
        "and December 31, 2020, no entity represented 10% or more of our total accounts receivable balance. The risk of concentration for our convertible note\n",
        "hedges and interest rate swaps is mitigated by transacting with several highly-rated multinational banks. \n",
        "Concentration of Risk: Supply Risk \n",
        "We are dependent on our suppliers, including single source suppliers, and the inability of these suppliers to deliver necessary components of our\n",
        "products in a timely manner at prices, quality levels and volumes acceptable to us, or our inability to efficiently manage these components from these\n",
        "suppliers, could have a material adverse effect on our business, prospects, financial condition and operating results.\n",
        "'''\n",
        "\n",
        "\n",
        "3. Companies in Europe reports their financial numbers of semi annual basis and you can have a document like this. To exatract quarterly and semi annual period you can use a regex as shown below\n",
        "Hint: you need to use (?:) here to match everything enclosed\n",
        "text = '''\n",
        "Tesla's gross cost of operating lease vehicles in FY2021 Q1 was $4.85 billion. \n",
        "BMW's gross cost of operating vehicles in FY2021 S1 was $8 billion.\n",
        "'''\n",
        "\n",
        "\n",
        "output=['2021 Q1', '2021 S1']"
      ],
      "metadata": {
        "id": "l8Cv0e-kMleP"
      }
    },
    {
      "cell_type": "code",
      "execution_count": 3,
      "metadata": {
        "colab": {
          "base_uri": "https://localhost:8080/",
          "height": 53
        },
        "id": "6vELIBhEMMmt",
        "outputId": "b0583016-8b7d-4fb5-fd09-cc51cf054cd8"
      },
      "outputs": [
        {
          "output_type": "execute_result",
          "data": {
            "text/plain": [
              "\"Follow our leader Elon musk on twitter here: https://twitter.com/elonmusk, more information on Tesla's products can be found at https://www.tesla.com/. Also here are leading influencers for tesla related news, https://twitter.com/teslarati https://twitter.com/dummy_tesla https://twitter.com/dummy_2_tesla\""
            ],
            "application/vnd.google.colaboratory.intrinsic+json": {
              "type": "string"
            }
          },
          "metadata": {},
          "execution_count": 3
        }
      ],
      "source": [
        "import re\n",
        "\n",
        "text =\"Follow our leader Elon musk on twitter here: https://twitter.com/elonmusk, more information on Tesla's products can be found at https://www.tesla.com/. Also here are leading influencers for tesla related news, https://twitter.com/teslarati https://twitter.com/dummy_tesla https://twitter.com/dummy_2_tesla\"\n",
        "text"
      ]
    },
    {
      "cell_type": "code",
      "source": [
        "pattern = 'https://twitter\\.com/([a-zA-Z0-9_]+)'\n",
        "re.findall(pattern, text)"
      ],
      "metadata": {
        "colab": {
          "base_uri": "https://localhost:8080/"
        },
        "id": "603ICbBXNMGT",
        "outputId": "de2e74b4-9614-469e-d758-ae24da9e4ef1"
      },
      "execution_count": 2,
      "outputs": [
        {
          "output_type": "execute_result",
          "data": {
            "text/plain": [
              "['elonmusk', 'teslarati', 'dummy_tesla', 'dummy_2_tesla']"
            ]
          },
          "metadata": {},
          "execution_count": 2
        }
      ]
    },
    {
      "cell_type": "code",
      "source": [
        "text2 = \"\"\"Concentration of Risk: Credit Risk\n",
        "\n",
        "Financial instruments that potentially subject us to a concentration of credit risk consist of cash, cash equivalents, marketable securities,\n",
        "restricted cash, accounts receivable, convertible note hedges, and interest rate swaps. Our cash balances are primarily invested in money market funds\n",
        "or on deposit at high credit quality financial institutions in the U.S. These deposits are typically in excess of insured limits. As of September 30, 2021\n",
        "and December 31, 2020, no entity represented 10% or more of our total accounts receivable balance. The risk of concentration for our convertible note\n",
        "hedges and interest rate swaps is mitigated by transacting with several highly-rated multinational banks. \n",
        "Concentration of Risk: Supply Risk \n",
        "We are dependent on our suppliers, including single source suppliers, and the inability of these suppliers to deliver necessary components of our\n",
        "products in a timely manner at prices, quality levels and volumes acceptable to us, or our inability to efficiently manage these components from these\n",
        "suppliers, could have a material adverse effect on our business, prospects, financial condition and operating results.\"\"\"\n",
        "text2"
      ],
      "metadata": {
        "colab": {
          "base_uri": "https://localhost:8080/",
          "height": 105
        },
        "id": "et-PPYVKNZzT",
        "outputId": "45d21f55-0d17-47a9-89b6-09dbeb515292"
      },
      "execution_count": 4,
      "outputs": [
        {
          "output_type": "execute_result",
          "data": {
            "text/plain": [
              "'Concentration of Risk: Credit Risk\\n\\nFinancial instruments that potentially subject us to a concentration of credit risk consist of cash, cash equivalents, marketable securities,\\nrestricted cash, accounts receivable, convertible note hedges, and interest rate swaps. Our cash balances are primarily invested in money market funds\\nor on deposit at high credit quality financial institutions in the U.S. These deposits are typically in excess of insured limits. As of September 30, 2021\\nand December 31, 2020, no entity represented 10% or more of our total accounts receivable balance. The risk of concentration for our convertible note\\nhedges and interest rate swaps is mitigated by transacting with several highly-rated multinational banks. \\nConcentration of Risk: Supply Risk \\nWe are dependent on our suppliers, including single source suppliers, and the inability of these suppliers to deliver necessary components of our\\nproducts in a timely manner at prices, quality levels and volumes acceptable to us, or our inability to efficiently manage these components from these\\nsuppliers, could have a material adverse effect on our business, prospects, financial condition and operating results.'"
            ],
            "application/vnd.google.colaboratory.intrinsic+json": {
              "type": "string"
            }
          },
          "metadata": {},
          "execution_count": 4
        }
      ]
    },
    {
      "cell_type": "code",
      "source": [
        "pattern = 'Concentration of Risk: ([^\\n]*)'\n",
        "re.findall(pattern, text2)"
      ],
      "metadata": {
        "colab": {
          "base_uri": "https://localhost:8080/"
        },
        "id": "b5PE3VXWNuk0",
        "outputId": "8e3735da-1de6-4e42-b61e-82e7f5a81c7f"
      },
      "execution_count": 5,
      "outputs": [
        {
          "output_type": "execute_result",
          "data": {
            "text/plain": [
              "['Credit Risk', 'Supply Risk ']"
            ]
          },
          "metadata": {},
          "execution_count": 5
        }
      ]
    },
    {
      "cell_type": "code",
      "source": [
        "text3 = \"\"\"Tesla's gross cost of operating lease vehicles in FY2021 Q1 was $4.85 billion.\n",
        "BMW's gross cost of operating vehicles in FY2021 S1 was $8 billion.\"\"\"\n",
        "text3"
      ],
      "metadata": {
        "colab": {
          "base_uri": "https://localhost:8080/",
          "height": 35
        },
        "id": "OP5-310XNyjT",
        "outputId": "db5185e1-3600-4d9e-dcbf-65c48e9abe55"
      },
      "execution_count": 6,
      "outputs": [
        {
          "output_type": "execute_result",
          "data": {
            "text/plain": [
              "\"Tesla's gross cost of operating lease vehicles in FY2021 Q1 was $4.85 billion.\\nBMW's gross cost of operating vehicles in FY2021 S1 was $8 billion.\""
            ],
            "application/vnd.google.colaboratory.intrinsic+json": {
              "type": "string"
            }
          },
          "metadata": {},
          "execution_count": 6
        }
      ]
    },
    {
      "cell_type": "code",
      "source": [
        "pattern = 'FY(\\d{4} (?:Q[1-4]|S[1-2]))'\n",
        "re.findall(pattern, text3)"
      ],
      "metadata": {
        "colab": {
          "base_uri": "https://localhost:8080/"
        },
        "id": "Wn2hijGNOEL7",
        "outputId": "e0e574e0-abe7-4e51-e3c6-d8084fba11b7"
      },
      "execution_count": 7,
      "outputs": [
        {
          "output_type": "execute_result",
          "data": {
            "text/plain": [
              "['2021 Q1', '2021 S1']"
            ]
          },
          "metadata": {},
          "execution_count": 7
        }
      ]
    }
  ]
}