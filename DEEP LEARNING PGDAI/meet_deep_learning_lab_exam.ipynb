{
  "nbformat": 4,
  "nbformat_minor": 0,
  "metadata": {
    "colab": {
      "provenance": []
    },
    "kernelspec": {
      "name": "python3",
      "display_name": "Python 3"
    },
    "language_info": {
      "name": "python"
    },
    "accelerator": "GPU",
    "gpuClass": "standard"
  },
  "cells": [
    {
      "cell_type": "markdown",
      "source": [
        "# Lab Exam1\n",
        "\n",
        "## Case Study 1:Consider  attached air quality data (named Real_Combine.csv) file with following feature values:\n",
        "T == Average Temperature (°C)\n",
        "TM == Maximum temperature (°C)\n",
        "Tm == Minimum temperature (°C)\n",
        "SLP == Atmospheric pressure at sea level (hPa)\n",
        "H == Average relative humidity (%)\n",
        "VV == Average visibility (Km)\n",
        "V == Average wind speed (Km/h)\n",
        "VM == Maximum sustained wind speed (Km/h)\n",
        "PM2.5== Fine particulate matter (PM2.5) is an air pollutant that is a concern for people's health when levels in air are high\n",
        "## Build a DNN model which will give you optimum MAE(mean absolute error) value on test data.\n",
        "## (Note:Use hyper parameter tuning on followings:\n",
        "HyperparametersHow many number of hidden layers we should have(take range 2-20)?How many number of neurons we should have in hidden layers(range(32,512,32))?\n",
        "different optimizer."
      ],
      "metadata": {
        "id": "QUjizu0Cemc4"
      }
    },
    {
      "cell_type": "code",
      "source": [
        "import pandas as pd\n",
        "from tensorflow import keras\n",
        "from tensorflow.keras import layers\n",
        "\n",
        "!pip install keras_tuner\n",
        "import keras_tuner as kt\n",
        "\n",
        "import warnings\n",
        "warnings.filterwarnings(\"ignore\")"
      ],
      "metadata": {
        "colab": {
          "base_uri": "https://localhost:8080/"
        },
        "id": "JRu_aqWPezQg",
        "outputId": "9cdce8b1-2328-43f9-eb7b-eb1585e151b9"
      },
      "execution_count": 1,
      "outputs": [
        {
          "output_type": "stream",
          "name": "stdout",
          "text": [
            "Looking in indexes: https://pypi.org/simple, https://us-python.pkg.dev/colab-wheels/public/simple/\n",
            "Requirement already satisfied: keras_tuner in /usr/local/lib/python3.8/dist-packages (1.1.3)\n",
            "Requirement already satisfied: ipython in /usr/local/lib/python3.8/dist-packages (from keras_tuner) (7.9.0)\n",
            "Requirement already satisfied: numpy in /usr/local/lib/python3.8/dist-packages (from keras_tuner) (1.21.6)\n",
            "Requirement already satisfied: packaging in /usr/local/lib/python3.8/dist-packages (from keras_tuner) (21.3)\n",
            "Requirement already satisfied: kt-legacy in /usr/local/lib/python3.8/dist-packages (from keras_tuner) (1.0.4)\n",
            "Requirement already satisfied: requests in /usr/local/lib/python3.8/dist-packages (from keras_tuner) (2.25.1)\n",
            "Requirement already satisfied: tensorboard in /usr/local/lib/python3.8/dist-packages (from keras_tuner) (2.9.1)\n",
            "Requirement already satisfied: pygments in /usr/local/lib/python3.8/dist-packages (from ipython->keras_tuner) (2.6.1)\n",
            "Requirement already satisfied: setuptools>=18.5 in /usr/local/lib/python3.8/dist-packages (from ipython->keras_tuner) (57.4.0)\n",
            "Requirement already satisfied: jedi>=0.10 in /usr/local/lib/python3.8/dist-packages (from ipython->keras_tuner) (0.18.2)\n",
            "Requirement already satisfied: pexpect in /usr/local/lib/python3.8/dist-packages (from ipython->keras_tuner) (4.8.0)\n",
            "Requirement already satisfied: traitlets>=4.2 in /usr/local/lib/python3.8/dist-packages (from ipython->keras_tuner) (5.7.1)\n",
            "Requirement already satisfied: pickleshare in /usr/local/lib/python3.8/dist-packages (from ipython->keras_tuner) (0.7.5)\n",
            "Requirement already satisfied: backcall in /usr/local/lib/python3.8/dist-packages (from ipython->keras_tuner) (0.2.0)\n",
            "Requirement already satisfied: decorator in /usr/local/lib/python3.8/dist-packages (from ipython->keras_tuner) (4.4.2)\n",
            "Requirement already satisfied: prompt-toolkit<2.1.0,>=2.0.0 in /usr/local/lib/python3.8/dist-packages (from ipython->keras_tuner) (2.0.10)\n",
            "Requirement already satisfied: pyparsing!=3.0.5,>=2.0.2 in /usr/local/lib/python3.8/dist-packages (from packaging->keras_tuner) (3.0.9)\n",
            "Requirement already satisfied: urllib3<1.27,>=1.21.1 in /usr/local/lib/python3.8/dist-packages (from requests->keras_tuner) (1.24.3)\n",
            "Requirement already satisfied: idna<3,>=2.5 in /usr/local/lib/python3.8/dist-packages (from requests->keras_tuner) (2.10)\n",
            "Requirement already satisfied: chardet<5,>=3.0.2 in /usr/local/lib/python3.8/dist-packages (from requests->keras_tuner) (4.0.0)\n",
            "Requirement already satisfied: certifi>=2017.4.17 in /usr/local/lib/python3.8/dist-packages (from requests->keras_tuner) (2022.12.7)\n",
            "Requirement already satisfied: protobuf<3.20,>=3.9.2 in /usr/local/lib/python3.8/dist-packages (from tensorboard->keras_tuner) (3.19.6)\n",
            "Requirement already satisfied: wheel>=0.26 in /usr/local/lib/python3.8/dist-packages (from tensorboard->keras_tuner) (0.38.4)\n",
            "Requirement already satisfied: absl-py>=0.4 in /usr/local/lib/python3.8/dist-packages (from tensorboard->keras_tuner) (1.3.0)\n",
            "Requirement already satisfied: tensorboard-plugin-wit>=1.6.0 in /usr/local/lib/python3.8/dist-packages (from tensorboard->keras_tuner) (1.8.1)\n",
            "Requirement already satisfied: grpcio>=1.24.3 in /usr/local/lib/python3.8/dist-packages (from tensorboard->keras_tuner) (1.51.1)\n",
            "Requirement already satisfied: werkzeug>=1.0.1 in /usr/local/lib/python3.8/dist-packages (from tensorboard->keras_tuner) (1.0.1)\n",
            "Requirement already satisfied: google-auth<3,>=1.6.3 in /usr/local/lib/python3.8/dist-packages (from tensorboard->keras_tuner) (2.16.0)\n",
            "Requirement already satisfied: google-auth-oauthlib<0.5,>=0.4.1 in /usr/local/lib/python3.8/dist-packages (from tensorboard->keras_tuner) (0.4.6)\n",
            "Requirement already satisfied: tensorboard-data-server<0.7.0,>=0.6.0 in /usr/local/lib/python3.8/dist-packages (from tensorboard->keras_tuner) (0.6.1)\n",
            "Requirement already satisfied: markdown>=2.6.8 in /usr/local/lib/python3.8/dist-packages (from tensorboard->keras_tuner) (3.4.1)\n",
            "Requirement already satisfied: rsa<5,>=3.1.4 in /usr/local/lib/python3.8/dist-packages (from google-auth<3,>=1.6.3->tensorboard->keras_tuner) (4.9)\n",
            "Requirement already satisfied: cachetools<6.0,>=2.0.0 in /usr/local/lib/python3.8/dist-packages (from google-auth<3,>=1.6.3->tensorboard->keras_tuner) (5.2.1)\n",
            "Requirement already satisfied: pyasn1-modules>=0.2.1 in /usr/local/lib/python3.8/dist-packages (from google-auth<3,>=1.6.3->tensorboard->keras_tuner) (0.2.8)\n",
            "Requirement already satisfied: six>=1.9.0 in /usr/local/lib/python3.8/dist-packages (from google-auth<3,>=1.6.3->tensorboard->keras_tuner) (1.15.0)\n",
            "Requirement already satisfied: requests-oauthlib>=0.7.0 in /usr/local/lib/python3.8/dist-packages (from google-auth-oauthlib<0.5,>=0.4.1->tensorboard->keras_tuner) (1.3.1)\n",
            "Requirement already satisfied: parso<0.9.0,>=0.8.0 in /usr/local/lib/python3.8/dist-packages (from jedi>=0.10->ipython->keras_tuner) (0.8.3)\n",
            "Requirement already satisfied: importlib-metadata>=4.4 in /usr/local/lib/python3.8/dist-packages (from markdown>=2.6.8->tensorboard->keras_tuner) (6.0.0)\n",
            "Requirement already satisfied: wcwidth in /usr/local/lib/python3.8/dist-packages (from prompt-toolkit<2.1.0,>=2.0.0->ipython->keras_tuner) (0.2.5)\n",
            "Requirement already satisfied: ptyprocess>=0.5 in /usr/local/lib/python3.8/dist-packages (from pexpect->ipython->keras_tuner) (0.7.0)\n",
            "Requirement already satisfied: zipp>=0.5 in /usr/local/lib/python3.8/dist-packages (from importlib-metadata>=4.4->markdown>=2.6.8->tensorboard->keras_tuner) (3.11.0)\n",
            "Requirement already satisfied: pyasn1<0.5.0,>=0.4.6 in /usr/local/lib/python3.8/dist-packages (from pyasn1-modules>=0.2.1->google-auth<3,>=1.6.3->tensorboard->keras_tuner) (0.4.8)\n",
            "Requirement already satisfied: oauthlib>=3.0.0 in /usr/local/lib/python3.8/dist-packages (from requests-oauthlib>=0.7.0->google-auth-oauthlib<0.5,>=0.4.1->tensorboard->keras_tuner) (3.2.2)\n"
          ]
        }
      ]
    },
    {
      "cell_type": "code",
      "source": [
        "df=pd.read_csv('/content/Meet Agnihotri - Real_Combine.csv')\n",
        "df.head()"
      ],
      "metadata": {
        "colab": {
          "base_uri": "https://localhost:8080/",
          "height": 206
        },
        "id": "WlqHdIikgnZY",
        "outputId": "44bd5a98-9550-458e-c771-48aba42c10a6"
      },
      "execution_count": 2,
      "outputs": [
        {
          "output_type": "execute_result",
          "data": {
            "text/plain": [
              "      T    TM   Tm     SLP     H   VV    V    VM      PM 2.5\n",
              "0   7.4   9.8  4.8  1017.6  93.0  0.5  4.3   9.4  219.720833\n",
              "1   7.8  12.7  4.4  1018.5  87.0  0.6  4.4  11.1  182.187500\n",
              "2   6.7  13.4  2.4  1019.4  82.0  0.6  4.8  11.1  154.037500\n",
              "3   8.6  15.5  3.3  1018.7  72.0  0.8  8.1  20.6  223.208333\n",
              "4  12.4  20.9  4.4  1017.3  61.0  1.3  8.7  22.2  200.645833"
            ],
            "text/html": [
              "\n",
              "  <div id=\"df-d143d091-7c29-408b-ad09-8a2ba7219dcf\">\n",
              "    <div class=\"colab-df-container\">\n",
              "      <div>\n",
              "<style scoped>\n",
              "    .dataframe tbody tr th:only-of-type {\n",
              "        vertical-align: middle;\n",
              "    }\n",
              "\n",
              "    .dataframe tbody tr th {\n",
              "        vertical-align: top;\n",
              "    }\n",
              "\n",
              "    .dataframe thead th {\n",
              "        text-align: right;\n",
              "    }\n",
              "</style>\n",
              "<table border=\"1\" class=\"dataframe\">\n",
              "  <thead>\n",
              "    <tr style=\"text-align: right;\">\n",
              "      <th></th>\n",
              "      <th>T</th>\n",
              "      <th>TM</th>\n",
              "      <th>Tm</th>\n",
              "      <th>SLP</th>\n",
              "      <th>H</th>\n",
              "      <th>VV</th>\n",
              "      <th>V</th>\n",
              "      <th>VM</th>\n",
              "      <th>PM 2.5</th>\n",
              "    </tr>\n",
              "  </thead>\n",
              "  <tbody>\n",
              "    <tr>\n",
              "      <th>0</th>\n",
              "      <td>7.4</td>\n",
              "      <td>9.8</td>\n",
              "      <td>4.8</td>\n",
              "      <td>1017.6</td>\n",
              "      <td>93.0</td>\n",
              "      <td>0.5</td>\n",
              "      <td>4.3</td>\n",
              "      <td>9.4</td>\n",
              "      <td>219.720833</td>\n",
              "    </tr>\n",
              "    <tr>\n",
              "      <th>1</th>\n",
              "      <td>7.8</td>\n",
              "      <td>12.7</td>\n",
              "      <td>4.4</td>\n",
              "      <td>1018.5</td>\n",
              "      <td>87.0</td>\n",
              "      <td>0.6</td>\n",
              "      <td>4.4</td>\n",
              "      <td>11.1</td>\n",
              "      <td>182.187500</td>\n",
              "    </tr>\n",
              "    <tr>\n",
              "      <th>2</th>\n",
              "      <td>6.7</td>\n",
              "      <td>13.4</td>\n",
              "      <td>2.4</td>\n",
              "      <td>1019.4</td>\n",
              "      <td>82.0</td>\n",
              "      <td>0.6</td>\n",
              "      <td>4.8</td>\n",
              "      <td>11.1</td>\n",
              "      <td>154.037500</td>\n",
              "    </tr>\n",
              "    <tr>\n",
              "      <th>3</th>\n",
              "      <td>8.6</td>\n",
              "      <td>15.5</td>\n",
              "      <td>3.3</td>\n",
              "      <td>1018.7</td>\n",
              "      <td>72.0</td>\n",
              "      <td>0.8</td>\n",
              "      <td>8.1</td>\n",
              "      <td>20.6</td>\n",
              "      <td>223.208333</td>\n",
              "    </tr>\n",
              "    <tr>\n",
              "      <th>4</th>\n",
              "      <td>12.4</td>\n",
              "      <td>20.9</td>\n",
              "      <td>4.4</td>\n",
              "      <td>1017.3</td>\n",
              "      <td>61.0</td>\n",
              "      <td>1.3</td>\n",
              "      <td>8.7</td>\n",
              "      <td>22.2</td>\n",
              "      <td>200.645833</td>\n",
              "    </tr>\n",
              "  </tbody>\n",
              "</table>\n",
              "</div>\n",
              "      <button class=\"colab-df-convert\" onclick=\"convertToInteractive('df-d143d091-7c29-408b-ad09-8a2ba7219dcf')\"\n",
              "              title=\"Convert this dataframe to an interactive table.\"\n",
              "              style=\"display:none;\">\n",
              "        \n",
              "  <svg xmlns=\"http://www.w3.org/2000/svg\" height=\"24px\"viewBox=\"0 0 24 24\"\n",
              "       width=\"24px\">\n",
              "    <path d=\"M0 0h24v24H0V0z\" fill=\"none\"/>\n",
              "    <path d=\"M18.56 5.44l.94 2.06.94-2.06 2.06-.94-2.06-.94-.94-2.06-.94 2.06-2.06.94zm-11 1L8.5 8.5l.94-2.06 2.06-.94-2.06-.94L8.5 2.5l-.94 2.06-2.06.94zm10 10l.94 2.06.94-2.06 2.06-.94-2.06-.94-.94-2.06-.94 2.06-2.06.94z\"/><path d=\"M17.41 7.96l-1.37-1.37c-.4-.4-.92-.59-1.43-.59-.52 0-1.04.2-1.43.59L10.3 9.45l-7.72 7.72c-.78.78-.78 2.05 0 2.83L4 21.41c.39.39.9.59 1.41.59.51 0 1.02-.2 1.41-.59l7.78-7.78 2.81-2.81c.8-.78.8-2.07 0-2.86zM5.41 20L4 18.59l7.72-7.72 1.47 1.35L5.41 20z\"/>\n",
              "  </svg>\n",
              "      </button>\n",
              "      \n",
              "  <style>\n",
              "    .colab-df-container {\n",
              "      display:flex;\n",
              "      flex-wrap:wrap;\n",
              "      gap: 12px;\n",
              "    }\n",
              "\n",
              "    .colab-df-convert {\n",
              "      background-color: #E8F0FE;\n",
              "      border: none;\n",
              "      border-radius: 50%;\n",
              "      cursor: pointer;\n",
              "      display: none;\n",
              "      fill: #1967D2;\n",
              "      height: 32px;\n",
              "      padding: 0 0 0 0;\n",
              "      width: 32px;\n",
              "    }\n",
              "\n",
              "    .colab-df-convert:hover {\n",
              "      background-color: #E2EBFA;\n",
              "      box-shadow: 0px 1px 2px rgba(60, 64, 67, 0.3), 0px 1px 3px 1px rgba(60, 64, 67, 0.15);\n",
              "      fill: #174EA6;\n",
              "    }\n",
              "\n",
              "    [theme=dark] .colab-df-convert {\n",
              "      background-color: #3B4455;\n",
              "      fill: #D2E3FC;\n",
              "    }\n",
              "\n",
              "    [theme=dark] .colab-df-convert:hover {\n",
              "      background-color: #434B5C;\n",
              "      box-shadow: 0px 1px 3px 1px rgba(0, 0, 0, 0.15);\n",
              "      filter: drop-shadow(0px 1px 2px rgba(0, 0, 0, 0.3));\n",
              "      fill: #FFFFFF;\n",
              "    }\n",
              "  </style>\n",
              "\n",
              "      <script>\n",
              "        const buttonEl =\n",
              "          document.querySelector('#df-d143d091-7c29-408b-ad09-8a2ba7219dcf button.colab-df-convert');\n",
              "        buttonEl.style.display =\n",
              "          google.colab.kernel.accessAllowed ? 'block' : 'none';\n",
              "\n",
              "        async function convertToInteractive(key) {\n",
              "          const element = document.querySelector('#df-d143d091-7c29-408b-ad09-8a2ba7219dcf');\n",
              "          const dataTable =\n",
              "            await google.colab.kernel.invokeFunction('convertToInteractive',\n",
              "                                                     [key], {});\n",
              "          if (!dataTable) return;\n",
              "\n",
              "          const docLinkHtml = 'Like what you see? Visit the ' +\n",
              "            '<a target=\"_blank\" href=https://colab.research.google.com/notebooks/data_table.ipynb>data table notebook</a>'\n",
              "            + ' to learn more about interactive tables.';\n",
              "          element.innerHTML = '';\n",
              "          dataTable['output_type'] = 'display_data';\n",
              "          await google.colab.output.renderOutput(dataTable, element);\n",
              "          const docLink = document.createElement('div');\n",
              "          docLink.innerHTML = docLinkHtml;\n",
              "          element.appendChild(docLink);\n",
              "        }\n",
              "      </script>\n",
              "    </div>\n",
              "  </div>\n",
              "  "
            ]
          },
          "metadata": {},
          "execution_count": 2
        }
      ]
    },
    {
      "cell_type": "code",
      "source": [
        "df.info()"
      ],
      "metadata": {
        "colab": {
          "base_uri": "https://localhost:8080/"
        },
        "id": "67PFlLrUhfTO",
        "outputId": "b030cc7e-3c40-42eb-ffc1-a7fd8feec5b6"
      },
      "execution_count": 3,
      "outputs": [
        {
          "output_type": "stream",
          "name": "stdout",
          "text": [
            "<class 'pandas.core.frame.DataFrame'>\n",
            "RangeIndex: 1093 entries, 0 to 1092\n",
            "Data columns (total 9 columns):\n",
            " #   Column  Non-Null Count  Dtype  \n",
            "---  ------  --------------  -----  \n",
            " 0   T       1093 non-null   float64\n",
            " 1   TM      1093 non-null   float64\n",
            " 2   Tm      1093 non-null   float64\n",
            " 3   SLP     1093 non-null   float64\n",
            " 4   H       1093 non-null   float64\n",
            " 5   VV      1093 non-null   float64\n",
            " 6   V       1093 non-null   float64\n",
            " 7   VM      1093 non-null   float64\n",
            " 8   PM 2.5  1092 non-null   float64\n",
            "dtypes: float64(9)\n",
            "memory usage: 77.0 KB\n"
          ]
        }
      ]
    },
    {
      "cell_type": "code",
      "source": [
        "df.describe().T"
      ],
      "metadata": {
        "colab": {
          "base_uri": "https://localhost:8080/",
          "height": 332
        },
        "id": "fbODwVUkhoYd",
        "outputId": "cd9e8422-c891-4544-84e1-27d01a4ae958"
      },
      "execution_count": 4,
      "outputs": [
        {
          "output_type": "execute_result",
          "data": {
            "text/plain": [
              "         count         mean        std    min          25%          50%  \\\n",
              "T       1093.0    26.009241   7.237401    6.7    19.300000    28.200000   \n",
              "TM      1093.0    32.482251   6.679078    9.8    27.800000    34.200000   \n",
              "Tm      1093.0    19.460201   7.438653    0.0    12.100000    21.200000   \n",
              "SLP     1093.0  1008.081885   7.529237  991.5  1001.100000  1008.100000   \n",
              "H       1093.0    62.918573  15.709816   20.0    54.000000    64.000000   \n",
              "VV      1093.0     2.003111   0.747541    0.3     1.600000     1.900000   \n",
              "V       1093.0     6.751510   3.841137    0.4     3.700000     6.500000   \n",
              "VM      1093.0    15.805124   7.308435    1.9    11.100000    14.800000   \n",
              "PM 2.5  1092.0   109.090984  84.465790    0.0    41.833333    83.458333   \n",
              "\n",
              "                75%     max  \n",
              "T         31.700000    38.5  \n",
              "TM        37.000000    45.5  \n",
              "Tm        26.000000    32.7  \n",
              "SLP     1015.000000  1023.2  \n",
              "H         74.000000    98.0  \n",
              "VV         2.600000     5.8  \n",
              "V          9.100000    24.4  \n",
              "VM        18.300000    57.6  \n",
              "PM 2.5   158.291667   404.5  "
            ],
            "text/html": [
              "\n",
              "  <div id=\"df-1d7eff50-a1af-4762-ba16-0b15592e4f5a\">\n",
              "    <div class=\"colab-df-container\">\n",
              "      <div>\n",
              "<style scoped>\n",
              "    .dataframe tbody tr th:only-of-type {\n",
              "        vertical-align: middle;\n",
              "    }\n",
              "\n",
              "    .dataframe tbody tr th {\n",
              "        vertical-align: top;\n",
              "    }\n",
              "\n",
              "    .dataframe thead th {\n",
              "        text-align: right;\n",
              "    }\n",
              "</style>\n",
              "<table border=\"1\" class=\"dataframe\">\n",
              "  <thead>\n",
              "    <tr style=\"text-align: right;\">\n",
              "      <th></th>\n",
              "      <th>count</th>\n",
              "      <th>mean</th>\n",
              "      <th>std</th>\n",
              "      <th>min</th>\n",
              "      <th>25%</th>\n",
              "      <th>50%</th>\n",
              "      <th>75%</th>\n",
              "      <th>max</th>\n",
              "    </tr>\n",
              "  </thead>\n",
              "  <tbody>\n",
              "    <tr>\n",
              "      <th>T</th>\n",
              "      <td>1093.0</td>\n",
              "      <td>26.009241</td>\n",
              "      <td>7.237401</td>\n",
              "      <td>6.7</td>\n",
              "      <td>19.300000</td>\n",
              "      <td>28.200000</td>\n",
              "      <td>31.700000</td>\n",
              "      <td>38.5</td>\n",
              "    </tr>\n",
              "    <tr>\n",
              "      <th>TM</th>\n",
              "      <td>1093.0</td>\n",
              "      <td>32.482251</td>\n",
              "      <td>6.679078</td>\n",
              "      <td>9.8</td>\n",
              "      <td>27.800000</td>\n",
              "      <td>34.200000</td>\n",
              "      <td>37.000000</td>\n",
              "      <td>45.5</td>\n",
              "    </tr>\n",
              "    <tr>\n",
              "      <th>Tm</th>\n",
              "      <td>1093.0</td>\n",
              "      <td>19.460201</td>\n",
              "      <td>7.438653</td>\n",
              "      <td>0.0</td>\n",
              "      <td>12.100000</td>\n",
              "      <td>21.200000</td>\n",
              "      <td>26.000000</td>\n",
              "      <td>32.7</td>\n",
              "    </tr>\n",
              "    <tr>\n",
              "      <th>SLP</th>\n",
              "      <td>1093.0</td>\n",
              "      <td>1008.081885</td>\n",
              "      <td>7.529237</td>\n",
              "      <td>991.5</td>\n",
              "      <td>1001.100000</td>\n",
              "      <td>1008.100000</td>\n",
              "      <td>1015.000000</td>\n",
              "      <td>1023.2</td>\n",
              "    </tr>\n",
              "    <tr>\n",
              "      <th>H</th>\n",
              "      <td>1093.0</td>\n",
              "      <td>62.918573</td>\n",
              "      <td>15.709816</td>\n",
              "      <td>20.0</td>\n",
              "      <td>54.000000</td>\n",
              "      <td>64.000000</td>\n",
              "      <td>74.000000</td>\n",
              "      <td>98.0</td>\n",
              "    </tr>\n",
              "    <tr>\n",
              "      <th>VV</th>\n",
              "      <td>1093.0</td>\n",
              "      <td>2.003111</td>\n",
              "      <td>0.747541</td>\n",
              "      <td>0.3</td>\n",
              "      <td>1.600000</td>\n",
              "      <td>1.900000</td>\n",
              "      <td>2.600000</td>\n",
              "      <td>5.8</td>\n",
              "    </tr>\n",
              "    <tr>\n",
              "      <th>V</th>\n",
              "      <td>1093.0</td>\n",
              "      <td>6.751510</td>\n",
              "      <td>3.841137</td>\n",
              "      <td>0.4</td>\n",
              "      <td>3.700000</td>\n",
              "      <td>6.500000</td>\n",
              "      <td>9.100000</td>\n",
              "      <td>24.4</td>\n",
              "    </tr>\n",
              "    <tr>\n",
              "      <th>VM</th>\n",
              "      <td>1093.0</td>\n",
              "      <td>15.805124</td>\n",
              "      <td>7.308435</td>\n",
              "      <td>1.9</td>\n",
              "      <td>11.100000</td>\n",
              "      <td>14.800000</td>\n",
              "      <td>18.300000</td>\n",
              "      <td>57.6</td>\n",
              "    </tr>\n",
              "    <tr>\n",
              "      <th>PM 2.5</th>\n",
              "      <td>1092.0</td>\n",
              "      <td>109.090984</td>\n",
              "      <td>84.465790</td>\n",
              "      <td>0.0</td>\n",
              "      <td>41.833333</td>\n",
              "      <td>83.458333</td>\n",
              "      <td>158.291667</td>\n",
              "      <td>404.5</td>\n",
              "    </tr>\n",
              "  </tbody>\n",
              "</table>\n",
              "</div>\n",
              "      <button class=\"colab-df-convert\" onclick=\"convertToInteractive('df-1d7eff50-a1af-4762-ba16-0b15592e4f5a')\"\n",
              "              title=\"Convert this dataframe to an interactive table.\"\n",
              "              style=\"display:none;\">\n",
              "        \n",
              "  <svg xmlns=\"http://www.w3.org/2000/svg\" height=\"24px\"viewBox=\"0 0 24 24\"\n",
              "       width=\"24px\">\n",
              "    <path d=\"M0 0h24v24H0V0z\" fill=\"none\"/>\n",
              "    <path d=\"M18.56 5.44l.94 2.06.94-2.06 2.06-.94-2.06-.94-.94-2.06-.94 2.06-2.06.94zm-11 1L8.5 8.5l.94-2.06 2.06-.94-2.06-.94L8.5 2.5l-.94 2.06-2.06.94zm10 10l.94 2.06.94-2.06 2.06-.94-2.06-.94-.94-2.06-.94 2.06-2.06.94z\"/><path d=\"M17.41 7.96l-1.37-1.37c-.4-.4-.92-.59-1.43-.59-.52 0-1.04.2-1.43.59L10.3 9.45l-7.72 7.72c-.78.78-.78 2.05 0 2.83L4 21.41c.39.39.9.59 1.41.59.51 0 1.02-.2 1.41-.59l7.78-7.78 2.81-2.81c.8-.78.8-2.07 0-2.86zM5.41 20L4 18.59l7.72-7.72 1.47 1.35L5.41 20z\"/>\n",
              "  </svg>\n",
              "      </button>\n",
              "      \n",
              "  <style>\n",
              "    .colab-df-container {\n",
              "      display:flex;\n",
              "      flex-wrap:wrap;\n",
              "      gap: 12px;\n",
              "    }\n",
              "\n",
              "    .colab-df-convert {\n",
              "      background-color: #E8F0FE;\n",
              "      border: none;\n",
              "      border-radius: 50%;\n",
              "      cursor: pointer;\n",
              "      display: none;\n",
              "      fill: #1967D2;\n",
              "      height: 32px;\n",
              "      padding: 0 0 0 0;\n",
              "      width: 32px;\n",
              "    }\n",
              "\n",
              "    .colab-df-convert:hover {\n",
              "      background-color: #E2EBFA;\n",
              "      box-shadow: 0px 1px 2px rgba(60, 64, 67, 0.3), 0px 1px 3px 1px rgba(60, 64, 67, 0.15);\n",
              "      fill: #174EA6;\n",
              "    }\n",
              "\n",
              "    [theme=dark] .colab-df-convert {\n",
              "      background-color: #3B4455;\n",
              "      fill: #D2E3FC;\n",
              "    }\n",
              "\n",
              "    [theme=dark] .colab-df-convert:hover {\n",
              "      background-color: #434B5C;\n",
              "      box-shadow: 0px 1px 3px 1px rgba(0, 0, 0, 0.15);\n",
              "      filter: drop-shadow(0px 1px 2px rgba(0, 0, 0, 0.3));\n",
              "      fill: #FFFFFF;\n",
              "    }\n",
              "  </style>\n",
              "\n",
              "      <script>\n",
              "        const buttonEl =\n",
              "          document.querySelector('#df-1d7eff50-a1af-4762-ba16-0b15592e4f5a button.colab-df-convert');\n",
              "        buttonEl.style.display =\n",
              "          google.colab.kernel.accessAllowed ? 'block' : 'none';\n",
              "\n",
              "        async function convertToInteractive(key) {\n",
              "          const element = document.querySelector('#df-1d7eff50-a1af-4762-ba16-0b15592e4f5a');\n",
              "          const dataTable =\n",
              "            await google.colab.kernel.invokeFunction('convertToInteractive',\n",
              "                                                     [key], {});\n",
              "          if (!dataTable) return;\n",
              "\n",
              "          const docLinkHtml = 'Like what you see? Visit the ' +\n",
              "            '<a target=\"_blank\" href=https://colab.research.google.com/notebooks/data_table.ipynb>data table notebook</a>'\n",
              "            + ' to learn more about interactive tables.';\n",
              "          element.innerHTML = '';\n",
              "          dataTable['output_type'] = 'display_data';\n",
              "          await google.colab.output.renderOutput(dataTable, element);\n",
              "          const docLink = document.createElement('div');\n",
              "          docLink.innerHTML = docLinkHtml;\n",
              "          element.appendChild(docLink);\n",
              "        }\n",
              "      </script>\n",
              "    </div>\n",
              "  </div>\n",
              "  "
            ]
          },
          "metadata": {},
          "execution_count": 4
        }
      ]
    },
    {
      "cell_type": "code",
      "source": [
        "df.isnull().sum()"
      ],
      "metadata": {
        "colab": {
          "base_uri": "https://localhost:8080/"
        },
        "id": "ruZxosdMwDTV",
        "outputId": "5ae26d72-dbbe-4f3f-f6d2-c3c593c8e03a"
      },
      "execution_count": 5,
      "outputs": [
        {
          "output_type": "execute_result",
          "data": {
            "text/plain": [
              "T         0\n",
              "TM        0\n",
              "Tm        0\n",
              "SLP       0\n",
              "H         0\n",
              "VV        0\n",
              "V         0\n",
              "VM        0\n",
              "PM 2.5    1\n",
              "dtype: int64"
            ]
          },
          "metadata": {},
          "execution_count": 5
        }
      ]
    },
    {
      "cell_type": "code",
      "source": [
        "df.shape"
      ],
      "metadata": {
        "colab": {
          "base_uri": "https://localhost:8080/"
        },
        "id": "t5ALiE96wQAM",
        "outputId": "7d12d459-3a35-4554-885a-0483ffe0c645"
      },
      "execution_count": 6,
      "outputs": [
        {
          "output_type": "execute_result",
          "data": {
            "text/plain": [
              "(1093, 9)"
            ]
          },
          "metadata": {},
          "execution_count": 6
        }
      ]
    },
    {
      "cell_type": "code",
      "source": [
        "df = df.dropna(how='any',axis=0)"
      ],
      "metadata": {
        "id": "5_RAGbkNwR9c"
      },
      "execution_count": 7,
      "outputs": []
    },
    {
      "cell_type": "code",
      "source": [
        "df.shape"
      ],
      "metadata": {
        "colab": {
          "base_uri": "https://localhost:8080/"
        },
        "id": "qz1HNIyvwTz-",
        "outputId": "cbaf3245-5c4c-434c-e3c0-f0a0de5be1ff"
      },
      "execution_count": 8,
      "outputs": [
        {
          "output_type": "execute_result",
          "data": {
            "text/plain": [
              "(1092, 9)"
            ]
          },
          "metadata": {},
          "execution_count": 8
        }
      ]
    },
    {
      "cell_type": "code",
      "source": [
        "X=df.iloc[:,:-1]\n",
        "y=df.iloc[:,-1]"
      ],
      "metadata": {
        "id": "RHHSmnJGhu71"
      },
      "execution_count": 9,
      "outputs": []
    },
    {
      "cell_type": "code",
      "source": [
        "X[:5]"
      ],
      "metadata": {
        "colab": {
          "base_uri": "https://localhost:8080/",
          "height": 206
        },
        "id": "RLhZQUrl3B93",
        "outputId": "a85f7224-5a92-453e-8f31-52fa0b8482f3"
      },
      "execution_count": 10,
      "outputs": [
        {
          "output_type": "execute_result",
          "data": {
            "text/plain": [
              "      T    TM   Tm     SLP     H   VV    V    VM\n",
              "0   7.4   9.8  4.8  1017.6  93.0  0.5  4.3   9.4\n",
              "1   7.8  12.7  4.4  1018.5  87.0  0.6  4.4  11.1\n",
              "2   6.7  13.4  2.4  1019.4  82.0  0.6  4.8  11.1\n",
              "3   8.6  15.5  3.3  1018.7  72.0  0.8  8.1  20.6\n",
              "4  12.4  20.9  4.4  1017.3  61.0  1.3  8.7  22.2"
            ],
            "text/html": [
              "\n",
              "  <div id=\"df-1d855c37-7e7b-4e29-bebc-4b1c378e6a54\">\n",
              "    <div class=\"colab-df-container\">\n",
              "      <div>\n",
              "<style scoped>\n",
              "    .dataframe tbody tr th:only-of-type {\n",
              "        vertical-align: middle;\n",
              "    }\n",
              "\n",
              "    .dataframe tbody tr th {\n",
              "        vertical-align: top;\n",
              "    }\n",
              "\n",
              "    .dataframe thead th {\n",
              "        text-align: right;\n",
              "    }\n",
              "</style>\n",
              "<table border=\"1\" class=\"dataframe\">\n",
              "  <thead>\n",
              "    <tr style=\"text-align: right;\">\n",
              "      <th></th>\n",
              "      <th>T</th>\n",
              "      <th>TM</th>\n",
              "      <th>Tm</th>\n",
              "      <th>SLP</th>\n",
              "      <th>H</th>\n",
              "      <th>VV</th>\n",
              "      <th>V</th>\n",
              "      <th>VM</th>\n",
              "    </tr>\n",
              "  </thead>\n",
              "  <tbody>\n",
              "    <tr>\n",
              "      <th>0</th>\n",
              "      <td>7.4</td>\n",
              "      <td>9.8</td>\n",
              "      <td>4.8</td>\n",
              "      <td>1017.6</td>\n",
              "      <td>93.0</td>\n",
              "      <td>0.5</td>\n",
              "      <td>4.3</td>\n",
              "      <td>9.4</td>\n",
              "    </tr>\n",
              "    <tr>\n",
              "      <th>1</th>\n",
              "      <td>7.8</td>\n",
              "      <td>12.7</td>\n",
              "      <td>4.4</td>\n",
              "      <td>1018.5</td>\n",
              "      <td>87.0</td>\n",
              "      <td>0.6</td>\n",
              "      <td>4.4</td>\n",
              "      <td>11.1</td>\n",
              "    </tr>\n",
              "    <tr>\n",
              "      <th>2</th>\n",
              "      <td>6.7</td>\n",
              "      <td>13.4</td>\n",
              "      <td>2.4</td>\n",
              "      <td>1019.4</td>\n",
              "      <td>82.0</td>\n",
              "      <td>0.6</td>\n",
              "      <td>4.8</td>\n",
              "      <td>11.1</td>\n",
              "    </tr>\n",
              "    <tr>\n",
              "      <th>3</th>\n",
              "      <td>8.6</td>\n",
              "      <td>15.5</td>\n",
              "      <td>3.3</td>\n",
              "      <td>1018.7</td>\n",
              "      <td>72.0</td>\n",
              "      <td>0.8</td>\n",
              "      <td>8.1</td>\n",
              "      <td>20.6</td>\n",
              "    </tr>\n",
              "    <tr>\n",
              "      <th>4</th>\n",
              "      <td>12.4</td>\n",
              "      <td>20.9</td>\n",
              "      <td>4.4</td>\n",
              "      <td>1017.3</td>\n",
              "      <td>61.0</td>\n",
              "      <td>1.3</td>\n",
              "      <td>8.7</td>\n",
              "      <td>22.2</td>\n",
              "    </tr>\n",
              "  </tbody>\n",
              "</table>\n",
              "</div>\n",
              "      <button class=\"colab-df-convert\" onclick=\"convertToInteractive('df-1d855c37-7e7b-4e29-bebc-4b1c378e6a54')\"\n",
              "              title=\"Convert this dataframe to an interactive table.\"\n",
              "              style=\"display:none;\">\n",
              "        \n",
              "  <svg xmlns=\"http://www.w3.org/2000/svg\" height=\"24px\"viewBox=\"0 0 24 24\"\n",
              "       width=\"24px\">\n",
              "    <path d=\"M0 0h24v24H0V0z\" fill=\"none\"/>\n",
              "    <path d=\"M18.56 5.44l.94 2.06.94-2.06 2.06-.94-2.06-.94-.94-2.06-.94 2.06-2.06.94zm-11 1L8.5 8.5l.94-2.06 2.06-.94-2.06-.94L8.5 2.5l-.94 2.06-2.06.94zm10 10l.94 2.06.94-2.06 2.06-.94-2.06-.94-.94-2.06-.94 2.06-2.06.94z\"/><path d=\"M17.41 7.96l-1.37-1.37c-.4-.4-.92-.59-1.43-.59-.52 0-1.04.2-1.43.59L10.3 9.45l-7.72 7.72c-.78.78-.78 2.05 0 2.83L4 21.41c.39.39.9.59 1.41.59.51 0 1.02-.2 1.41-.59l7.78-7.78 2.81-2.81c.8-.78.8-2.07 0-2.86zM5.41 20L4 18.59l7.72-7.72 1.47 1.35L5.41 20z\"/>\n",
              "  </svg>\n",
              "      </button>\n",
              "      \n",
              "  <style>\n",
              "    .colab-df-container {\n",
              "      display:flex;\n",
              "      flex-wrap:wrap;\n",
              "      gap: 12px;\n",
              "    }\n",
              "\n",
              "    .colab-df-convert {\n",
              "      background-color: #E8F0FE;\n",
              "      border: none;\n",
              "      border-radius: 50%;\n",
              "      cursor: pointer;\n",
              "      display: none;\n",
              "      fill: #1967D2;\n",
              "      height: 32px;\n",
              "      padding: 0 0 0 0;\n",
              "      width: 32px;\n",
              "    }\n",
              "\n",
              "    .colab-df-convert:hover {\n",
              "      background-color: #E2EBFA;\n",
              "      box-shadow: 0px 1px 2px rgba(60, 64, 67, 0.3), 0px 1px 3px 1px rgba(60, 64, 67, 0.15);\n",
              "      fill: #174EA6;\n",
              "    }\n",
              "\n",
              "    [theme=dark] .colab-df-convert {\n",
              "      background-color: #3B4455;\n",
              "      fill: #D2E3FC;\n",
              "    }\n",
              "\n",
              "    [theme=dark] .colab-df-convert:hover {\n",
              "      background-color: #434B5C;\n",
              "      box-shadow: 0px 1px 3px 1px rgba(0, 0, 0, 0.15);\n",
              "      filter: drop-shadow(0px 1px 2px rgba(0, 0, 0, 0.3));\n",
              "      fill: #FFFFFF;\n",
              "    }\n",
              "  </style>\n",
              "\n",
              "      <script>\n",
              "        const buttonEl =\n",
              "          document.querySelector('#df-1d855c37-7e7b-4e29-bebc-4b1c378e6a54 button.colab-df-convert');\n",
              "        buttonEl.style.display =\n",
              "          google.colab.kernel.accessAllowed ? 'block' : 'none';\n",
              "\n",
              "        async function convertToInteractive(key) {\n",
              "          const element = document.querySelector('#df-1d855c37-7e7b-4e29-bebc-4b1c378e6a54');\n",
              "          const dataTable =\n",
              "            await google.colab.kernel.invokeFunction('convertToInteractive',\n",
              "                                                     [key], {});\n",
              "          if (!dataTable) return;\n",
              "\n",
              "          const docLinkHtml = 'Like what you see? Visit the ' +\n",
              "            '<a target=\"_blank\" href=https://colab.research.google.com/notebooks/data_table.ipynb>data table notebook</a>'\n",
              "            + ' to learn more about interactive tables.';\n",
              "          element.innerHTML = '';\n",
              "          dataTable['output_type'] = 'display_data';\n",
              "          await google.colab.output.renderOutput(dataTable, element);\n",
              "          const docLink = document.createElement('div');\n",
              "          docLink.innerHTML = docLinkHtml;\n",
              "          element.appendChild(docLink);\n",
              "        }\n",
              "      </script>\n",
              "    </div>\n",
              "  </div>\n",
              "  "
            ]
          },
          "metadata": {},
          "execution_count": 10
        }
      ]
    },
    {
      "cell_type": "code",
      "source": [
        "from sklearn.preprocessing import MinMaxScaler\n",
        "scaler = MinMaxScaler()\n",
        "scaled_X = scaler.fit_transform(X)"
      ],
      "metadata": {
        "id": "_InSg_GF2WX6"
      },
      "execution_count": 11,
      "outputs": []
    },
    {
      "cell_type": "code",
      "source": [
        "scaled_X[:5]"
      ],
      "metadata": {
        "colab": {
          "base_uri": "https://localhost:8080/"
        },
        "id": "9o0iklpk3GZZ",
        "outputId": "68ce511e-a8f0-4734-b668-5ca9634d9297"
      },
      "execution_count": 12,
      "outputs": [
        {
          "output_type": "execute_result",
          "data": {
            "text/plain": [
              "array([[0.02201258, 0.        , 0.14678899, 0.82334385, 0.93589744,\n",
              "        0.03636364, 0.1625    , 0.13464991],\n",
              "       [0.03459119, 0.08123249, 0.13455657, 0.85173502, 0.85897436,\n",
              "        0.05454545, 0.16666667, 0.16517056],\n",
              "       [0.        , 0.10084034, 0.0733945 , 0.88012618, 0.79487179,\n",
              "        0.05454545, 0.18333333, 0.16517056],\n",
              "       [0.05974843, 0.15966387, 0.10091743, 0.85804416, 0.66666667,\n",
              "        0.09090909, 0.32083333, 0.33572711],\n",
              "       [0.17924528, 0.31092437, 0.13455657, 0.81388013, 0.52564103,\n",
              "        0.18181818, 0.34583333, 0.36445242]])"
            ]
          },
          "metadata": {},
          "execution_count": 12
        }
      ]
    },
    {
      "cell_type": "code",
      "source": [
        "scaled_X.shape"
      ],
      "metadata": {
        "colab": {
          "base_uri": "https://localhost:8080/"
        },
        "id": "2QvnC28RljQe",
        "outputId": "fff3536c-c767-4a57-c39f-e305cd716004"
      },
      "execution_count": 13,
      "outputs": [
        {
          "output_type": "execute_result",
          "data": {
            "text/plain": [
              "(1092, 8)"
            ]
          },
          "metadata": {},
          "execution_count": 13
        }
      ]
    },
    {
      "cell_type": "code",
      "source": [
        "y.shape"
      ],
      "metadata": {
        "colab": {
          "base_uri": "https://localhost:8080/"
        },
        "id": "Hv8w5Wz4lkMU",
        "outputId": "6070bce5-755d-47ed-910e-a20b32fdb09b"
      },
      "execution_count": 14,
      "outputs": [
        {
          "output_type": "execute_result",
          "data": {
            "text/plain": [
              "(1092,)"
            ]
          },
          "metadata": {},
          "execution_count": 14
        }
      ]
    },
    {
      "cell_type": "code",
      "source": [
        "from sklearn.model_selection import train_test_split\n",
        "X_train, X_test, y_train, y_test = train_test_split(scaled_X, y, test_size=0.3, random_state=100)"
      ],
      "metadata": {
        "id": "rfqSgNaUllW1"
      },
      "execution_count": 15,
      "outputs": []
    },
    {
      "cell_type": "code",
      "source": [
        "X_train.shape"
      ],
      "metadata": {
        "colab": {
          "base_uri": "https://localhost:8080/"
        },
        "id": "SXjrBfMalwcd",
        "outputId": "b280f193-a197-49a1-acc1-1e06430c1719"
      },
      "execution_count": 16,
      "outputs": [
        {
          "output_type": "execute_result",
          "data": {
            "text/plain": [
              "(764, 8)"
            ]
          },
          "metadata": {},
          "execution_count": 16
        }
      ]
    },
    {
      "cell_type": "code",
      "source": [
        "X_test.shape"
      ],
      "metadata": {
        "colab": {
          "base_uri": "https://localhost:8080/"
        },
        "id": "KkqRBDcKlzVN",
        "outputId": "5f891047-1f9f-4b09-828d-fa574fcc0787"
      },
      "execution_count": 17,
      "outputs": [
        {
          "output_type": "execute_result",
          "data": {
            "text/plain": [
              "(328, 8)"
            ]
          },
          "metadata": {},
          "execution_count": 17
        }
      ]
    },
    {
      "cell_type": "markdown",
      "source": [
        "Finding the optimum hyperparameters"
      ],
      "metadata": {
        "id": "tQWRhTxVl5sk"
      }
    },
    {
      "cell_type": "code",
      "source": [
        "def build_model(hp):\n",
        "    model = keras.Sequential()\n",
        "    for i in range(hp.Int('num_layers', 2, 20)):\n",
        "        model.add(layers.Dense(units=hp.Int('units_' + str(i),\n",
        "                                            min_value=32,\n",
        "                                            max_value=512,\n",
        "                                            step=32),\n",
        "                               activation='relu'))\n",
        "    model.add(layers.Dense(1, activation='linear'))\n",
        "    optimizer=hp.Choice(\"optimizer\",values=['adam','rmsprop','adadelta','sgd','nadam'])\n",
        "    model.compile(\n",
        "        optimizer=optimizer,\n",
        "        loss='mean_absolute_error',\n",
        "        metrics=['mean_absolute_error'])\n",
        "    return model"
      ],
      "metadata": {
        "id": "vWnnlR4Ul7ob"
      },
      "execution_count": 18,
      "outputs": []
    },
    {
      "cell_type": "code",
      "source": [
        "tuner = kt.RandomSearch(\n",
        "    build_model,\n",
        "    objective=kt.Objective(\"val_mean_absolute_error\", direction=\"min\"),\n",
        "    max_trials=5,\n",
        "    executions_per_trial=5)"
      ],
      "metadata": {
        "id": "hDSJH_pnnV_H"
      },
      "execution_count": 19,
      "outputs": []
    },
    {
      "cell_type": "code",
      "source": [
        "tuner.search(X_train, y_train,\n",
        "             epochs=10,\n",
        "             validation_data=(X_test, y_test))"
      ],
      "metadata": {
        "colab": {
          "base_uri": "https://localhost:8080/"
        },
        "id": "DvmGA3Sqn3A9",
        "outputId": "0d8337a5-24c6-430c-ab0b-3a480850a829"
      },
      "execution_count": 20,
      "outputs": [
        {
          "output_type": "stream",
          "name": "stdout",
          "text": [
            "Trial 5 Complete [00h 00m 09s]\n",
            "val_mean_absolute_error: 48.26458969116211\n",
            "\n",
            "Best val_mean_absolute_error So Far: 40.46221694946289\n",
            "Total elapsed time: 00h 01m 18s\n"
          ]
        }
      ]
    },
    {
      "cell_type": "code",
      "source": [
        "tuner.results_summary()"
      ],
      "metadata": {
        "colab": {
          "base_uri": "https://localhost:8080/"
        },
        "id": "cOVOfn_-oLYs",
        "outputId": "d063d358-34c3-4682-a0a9-39ae610e2b8c"
      },
      "execution_count": 21,
      "outputs": [
        {
          "output_type": "stream",
          "name": "stdout",
          "text": [
            "Results summary\n",
            "Results in ./untitled_project\n",
            "Showing 10 best trials\n",
            "<keras_tuner.engine.objective.Objective object at 0x7f1f8dc0c640>\n",
            "Trial summary\n",
            "Hyperparameters:\n",
            "num_layers: 6\n",
            "units_0: 352\n",
            "units_1: 160\n",
            "optimizer: nadam\n",
            "units_2: 224\n",
            "units_3: 32\n",
            "units_4: 320\n",
            "units_5: 128\n",
            "units_6: 224\n",
            "units_7: 128\n",
            "units_8: 448\n",
            "units_9: 192\n",
            "units_10: 384\n",
            "units_11: 288\n",
            "units_12: 448\n",
            "units_13: 96\n",
            "units_14: 480\n",
            "units_15: 352\n",
            "units_16: 384\n",
            "units_17: 448\n",
            "Score: 40.46221694946289\n",
            "Trial summary\n",
            "Hyperparameters:\n",
            "num_layers: 4\n",
            "units_0: 288\n",
            "units_1: 256\n",
            "optimizer: nadam\n",
            "units_2: 96\n",
            "units_3: 416\n",
            "units_4: 160\n",
            "units_5: 480\n",
            "units_6: 448\n",
            "units_7: 192\n",
            "units_8: 192\n",
            "units_9: 160\n",
            "units_10: 320\n",
            "units_11: 352\n",
            "units_12: 480\n",
            "units_13: 224\n",
            "units_14: 192\n",
            "units_15: 480\n",
            "units_16: 416\n",
            "units_17: 64\n",
            "Score: 40.775115203857425\n",
            "Trial summary\n",
            "Hyperparameters:\n",
            "num_layers: 2\n",
            "units_0: 352\n",
            "units_1: 288\n",
            "optimizer: adam\n",
            "units_2: 480\n",
            "units_3: 512\n",
            "units_4: 160\n",
            "units_5: 256\n",
            "units_6: 64\n",
            "units_7: 224\n",
            "units_8: 32\n",
            "units_9: 384\n",
            "units_10: 96\n",
            "units_11: 32\n",
            "units_12: 288\n",
            "units_13: 512\n",
            "units_14: 64\n",
            "units_15: 64\n",
            "units_16: 416\n",
            "units_17: 480\n",
            "Score: 48.26458969116211\n",
            "Trial summary\n",
            "Hyperparameters:\n",
            "num_layers: 12\n",
            "units_0: 448\n",
            "units_1: 224\n",
            "optimizer: sgd\n",
            "units_2: 480\n",
            "units_3: 224\n",
            "units_4: 416\n",
            "units_5: 448\n",
            "units_6: 512\n",
            "units_7: 480\n",
            "units_8: 64\n",
            "units_9: 448\n",
            "units_10: 160\n",
            "units_11: 64\n",
            "units_12: 480\n",
            "units_13: 352\n",
            "units_14: 352\n",
            "units_15: 192\n",
            "units_16: 352\n",
            "units_17: 160\n",
            "Score: 59.39267501831055\n",
            "Trial summary\n",
            "Hyperparameters:\n",
            "num_layers: 18\n",
            "units_0: 320\n",
            "units_1: 256\n",
            "optimizer: adadelta\n",
            "units_2: 32\n",
            "units_3: 32\n",
            "units_4: 32\n",
            "units_5: 32\n",
            "units_6: 32\n",
            "units_7: 32\n",
            "units_8: 32\n",
            "units_9: 32\n",
            "units_10: 32\n",
            "units_11: 32\n",
            "units_12: 32\n",
            "units_13: 32\n",
            "units_14: 32\n",
            "units_15: 32\n",
            "units_16: 32\n",
            "units_17: 32\n",
            "Score: 112.42525482177734\n"
          ]
        }
      ]
    },
    {
      "cell_type": "code",
      "source": [
        "tuned_model=tuner.get_best_models(num_models=1)[0]"
      ],
      "metadata": {
        "id": "kaf4CZZGvLDg"
      },
      "execution_count": 22,
      "outputs": []
    },
    {
      "cell_type": "code",
      "source": [
        "tuned_model.fit(X_train, y_train, epochs=50)"
      ],
      "metadata": {
        "colab": {
          "base_uri": "https://localhost:8080/"
        },
        "id": "Y7KxvctixB6f",
        "outputId": "a7c21a32-8ee5-4613-9801-54bdcceeeaf2"
      },
      "execution_count": 23,
      "outputs": [
        {
          "output_type": "stream",
          "name": "stdout",
          "text": [
            "Epoch 1/50\n",
            "24/24 [==============================] - 1s 11ms/step - loss: 39.5266 - mean_absolute_error: 39.5266\n",
            "Epoch 2/50\n",
            "24/24 [==============================] - 0s 5ms/step - loss: 39.1010 - mean_absolute_error: 39.1010\n",
            "Epoch 3/50\n",
            "24/24 [==============================] - 0s 5ms/step - loss: 40.4755 - mean_absolute_error: 40.4755\n",
            "Epoch 4/50\n",
            "24/24 [==============================] - 0s 5ms/step - loss: 38.4458 - mean_absolute_error: 38.4458\n",
            "Epoch 5/50\n",
            "24/24 [==============================] - 0s 4ms/step - loss: 39.1773 - mean_absolute_error: 39.1773\n",
            "Epoch 6/50\n",
            "24/24 [==============================] - 0s 5ms/step - loss: 38.5095 - mean_absolute_error: 38.5095\n",
            "Epoch 7/50\n",
            "24/24 [==============================] - 0s 4ms/step - loss: 37.8827 - mean_absolute_error: 37.8827\n",
            "Epoch 8/50\n",
            "24/24 [==============================] - 0s 4ms/step - loss: 38.5434 - mean_absolute_error: 38.5434\n",
            "Epoch 9/50\n",
            "24/24 [==============================] - 0s 7ms/step - loss: 37.6300 - mean_absolute_error: 37.6300\n",
            "Epoch 10/50\n",
            "24/24 [==============================] - 0s 6ms/step - loss: 37.3359 - mean_absolute_error: 37.3359\n",
            "Epoch 11/50\n",
            "24/24 [==============================] - 0s 4ms/step - loss: 37.1295 - mean_absolute_error: 37.1295\n",
            "Epoch 12/50\n",
            "24/24 [==============================] - 0s 4ms/step - loss: 36.7670 - mean_absolute_error: 36.7670\n",
            "Epoch 13/50\n",
            "24/24 [==============================] - 0s 5ms/step - loss: 37.2454 - mean_absolute_error: 37.2454\n",
            "Epoch 14/50\n",
            "24/24 [==============================] - 0s 4ms/step - loss: 36.4331 - mean_absolute_error: 36.4331\n",
            "Epoch 15/50\n",
            "24/24 [==============================] - 0s 5ms/step - loss: 37.5792 - mean_absolute_error: 37.5792\n",
            "Epoch 16/50\n",
            "24/24 [==============================] - 0s 4ms/step - loss: 36.5525 - mean_absolute_error: 36.5525\n",
            "Epoch 17/50\n",
            "24/24 [==============================] - 0s 4ms/step - loss: 36.2028 - mean_absolute_error: 36.2028\n",
            "Epoch 18/50\n",
            "24/24 [==============================] - 0s 5ms/step - loss: 36.4231 - mean_absolute_error: 36.4231\n",
            "Epoch 19/50\n",
            "24/24 [==============================] - 0s 4ms/step - loss: 36.2805 - mean_absolute_error: 36.2805\n",
            "Epoch 20/50\n",
            "24/24 [==============================] - 0s 5ms/step - loss: 36.3764 - mean_absolute_error: 36.3764\n",
            "Epoch 21/50\n",
            "24/24 [==============================] - 0s 4ms/step - loss: 35.0857 - mean_absolute_error: 35.0857\n",
            "Epoch 22/50\n",
            "24/24 [==============================] - 0s 5ms/step - loss: 36.0367 - mean_absolute_error: 36.0367\n",
            "Epoch 23/50\n",
            "24/24 [==============================] - 0s 4ms/step - loss: 35.9131 - mean_absolute_error: 35.9131\n",
            "Epoch 24/50\n",
            "24/24 [==============================] - 0s 4ms/step - loss: 35.3981 - mean_absolute_error: 35.3981\n",
            "Epoch 25/50\n",
            "24/24 [==============================] - 0s 5ms/step - loss: 34.7977 - mean_absolute_error: 34.7977\n",
            "Epoch 26/50\n",
            "24/24 [==============================] - 0s 5ms/step - loss: 35.4717 - mean_absolute_error: 35.4717\n",
            "Epoch 27/50\n",
            "24/24 [==============================] - 0s 5ms/step - loss: 35.8170 - mean_absolute_error: 35.8170\n",
            "Epoch 28/50\n",
            "24/24 [==============================] - 0s 5ms/step - loss: 34.2733 - mean_absolute_error: 34.2733\n",
            "Epoch 29/50\n",
            "24/24 [==============================] - 0s 5ms/step - loss: 35.2027 - mean_absolute_error: 35.2027\n",
            "Epoch 30/50\n",
            "24/24 [==============================] - 0s 4ms/step - loss: 34.3937 - mean_absolute_error: 34.3937\n",
            "Epoch 31/50\n",
            "24/24 [==============================] - 0s 5ms/step - loss: 34.8179 - mean_absolute_error: 34.8179\n",
            "Epoch 32/50\n",
            "24/24 [==============================] - 0s 4ms/step - loss: 34.2465 - mean_absolute_error: 34.2465\n",
            "Epoch 33/50\n",
            "24/24 [==============================] - 0s 5ms/step - loss: 34.1635 - mean_absolute_error: 34.1635\n",
            "Epoch 34/50\n",
            "24/24 [==============================] - 0s 4ms/step - loss: 34.8391 - mean_absolute_error: 34.8391\n",
            "Epoch 35/50\n",
            "24/24 [==============================] - 0s 5ms/step - loss: 34.0376 - mean_absolute_error: 34.0376\n",
            "Epoch 36/50\n",
            "24/24 [==============================] - 0s 5ms/step - loss: 33.8854 - mean_absolute_error: 33.8854\n",
            "Epoch 37/50\n",
            "24/24 [==============================] - 0s 4ms/step - loss: 33.9369 - mean_absolute_error: 33.9369\n",
            "Epoch 38/50\n",
            "24/24 [==============================] - 0s 5ms/step - loss: 33.8612 - mean_absolute_error: 33.8612\n",
            "Epoch 39/50\n",
            "24/24 [==============================] - 0s 5ms/step - loss: 33.4777 - mean_absolute_error: 33.4777\n",
            "Epoch 40/50\n",
            "24/24 [==============================] - 0s 4ms/step - loss: 34.3649 - mean_absolute_error: 34.3649\n",
            "Epoch 41/50\n",
            "24/24 [==============================] - 0s 6ms/step - loss: 33.1879 - mean_absolute_error: 33.1879\n",
            "Epoch 42/50\n",
            "24/24 [==============================] - 0s 6ms/step - loss: 33.5820 - mean_absolute_error: 33.5820\n",
            "Epoch 43/50\n",
            "24/24 [==============================] - 0s 5ms/step - loss: 33.1239 - mean_absolute_error: 33.1239\n",
            "Epoch 44/50\n",
            "24/24 [==============================] - 0s 5ms/step - loss: 33.1044 - mean_absolute_error: 33.1044\n",
            "Epoch 45/50\n",
            "24/24 [==============================] - 0s 5ms/step - loss: 32.5520 - mean_absolute_error: 32.5520\n",
            "Epoch 46/50\n",
            "24/24 [==============================] - 0s 4ms/step - loss: 32.9115 - mean_absolute_error: 32.9115\n",
            "Epoch 47/50\n",
            "24/24 [==============================] - 0s 5ms/step - loss: 33.0495 - mean_absolute_error: 33.0495\n",
            "Epoch 48/50\n",
            "24/24 [==============================] - 0s 5ms/step - loss: 32.5526 - mean_absolute_error: 32.5526\n",
            "Epoch 49/50\n",
            "24/24 [==============================] - 0s 4ms/step - loss: 32.5007 - mean_absolute_error: 32.5007\n",
            "Epoch 50/50\n",
            "24/24 [==============================] - 0s 4ms/step - loss: 32.4175 - mean_absolute_error: 32.4175\n"
          ]
        },
        {
          "output_type": "execute_result",
          "data": {
            "text/plain": [
              "<keras.callbacks.History at 0x7f1f2a4e33d0>"
            ]
          },
          "metadata": {},
          "execution_count": 23
        }
      ]
    },
    {
      "cell_type": "code",
      "source": [
        "tuned_model.summary()"
      ],
      "metadata": {
        "colab": {
          "base_uri": "https://localhost:8080/"
        },
        "id": "8STyNRKbxHjF",
        "outputId": "a94e5433-6cb6-44d7-dd40-1052d6a7832f"
      },
      "execution_count": 24,
      "outputs": [
        {
          "output_type": "stream",
          "name": "stdout",
          "text": [
            "Model: \"sequential\"\n",
            "_________________________________________________________________\n",
            " Layer (type)                Output Shape              Param #   \n",
            "=================================================================\n",
            " dense (Dense)               (None, 352)               3168      \n",
            "                                                                 \n",
            " dense_1 (Dense)             (None, 160)               56480     \n",
            "                                                                 \n",
            " dense_2 (Dense)             (None, 224)               36064     \n",
            "                                                                 \n",
            " dense_3 (Dense)             (None, 32)                7200      \n",
            "                                                                 \n",
            " dense_4 (Dense)             (None, 320)               10560     \n",
            "                                                                 \n",
            " dense_5 (Dense)             (None, 128)               41088     \n",
            "                                                                 \n",
            " dense_6 (Dense)             (None, 1)                 129       \n",
            "                                                                 \n",
            "=================================================================\n",
            "Total params: 154,689\n",
            "Trainable params: 154,689\n",
            "Non-trainable params: 0\n",
            "_________________________________________________________________\n"
          ]
        }
      ]
    },
    {
      "cell_type": "code",
      "source": [
        "tuned_model.evaluate(X_test, y_test)"
      ],
      "metadata": {
        "colab": {
          "base_uri": "https://localhost:8080/"
        },
        "id": "2ZqDkTxvxZpp",
        "outputId": "d067cc44-2d99-44a1-eb09-09297720b3ad"
      },
      "execution_count": 25,
      "outputs": [
        {
          "output_type": "stream",
          "name": "stdout",
          "text": [
            "11/11 [==============================] - 0s 3ms/step - loss: 34.9780 - mean_absolute_error: 34.9780\n"
          ]
        },
        {
          "output_type": "execute_result",
          "data": {
            "text/plain": [
              "[34.977996826171875, 34.977996826171875]"
            ]
          },
          "metadata": {},
          "execution_count": 25
        }
      ]
    }
  ]
}